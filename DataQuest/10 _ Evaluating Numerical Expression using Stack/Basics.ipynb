{
 "cells": [
  {
   "cell_type": "markdown",
   "metadata": {
    "collapsed": true
   },
   "source": [
    "# <center> Evaluating Numerical Expressions \n",
    "    \n",
    "The goal of this projcet is to use the stack data structure to evaluate complex numerical expressions. The result of this project is make function named evaluate() that can evaluate expressions stored in string."
   ]
  },
  {
   "cell_type": "markdown",
   "metadata": {},
   "source": [
    "## Importing Class"
   ]
  },
  {
   "cell_type": "code",
   "execution_count": 1,
   "metadata": {},
   "outputs": [],
   "source": [
    "from linked_list import LinkedList \n",
    "\n",
    "class Stack(LinkedList):\n",
    "\n",
    "    def push(self, data):\n",
    "        self.append(data)\n",
    "\n",
    "    def peek(self):\n",
    "        return self.tail.data\n",
    "\n",
    "    def pop(self) : \n",
    "        ret = self.tail.data \n",
    "        if self.length == 1 :\n",
    "            self.tail = None \n",
    "        else : \n",
    "            self.tail = self.tail.prev\n",
    "            self.tail.next = None \n",
    "        self.length -= 1 \n",
    "        return ret "
   ]
  },
  {
   "cell_type": "markdown",
   "metadata": {},
   "source": [
    "## Infix and Postfix Notation \n",
    "\n",
    "When we write an expression, we use **infix notation**, meaning that we put the operators between the two operands. For a computer, it's much easier to evaluate an expression written in postfix notation. We can evaluate an expression in postfix notation using a stack. \n",
    "\n",
    "1. If we find a number, we push that number to the top of the stack.\n",
    "2. If we find an operator, we pop the top two elements of the stack, perform the operation, and then push back the result. "
   ]
  },
  {
   "cell_type": "markdown",
   "metadata": {},
   "source": [
    "## Tokenize the expression into a list of tokens"
   ]
  },
  {
   "cell_type": "code",
   "execution_count": 2,
   "metadata": {},
   "outputs": [],
   "source": [
    "def tokenize(string) :\n",
    "    return string.split()"
   ]
  },
  {
   "cell_type": "markdown",
   "metadata": {},
   "source": [
    "## Processing an Operator \n",
    "\n",
    "There is one important detail we need to consider. When we find an operator, we pop the two values on the top of the stack. When we apply the operator to those two elements, we need to make sure we operator those two numbers in the correct order. "
   ]
  },
  {
   "cell_type": "code",
   "execution_count": 8,
   "metadata": {},
   "outputs": [],
   "source": [
    "def processes_minus(stack) : \n",
    "    top = stack.pop()\n",
    "    second_to_top = stack.pop()\n",
    "    result = second_to_top - top\n",
    "    stack.push(result) \n",
    "    \n",
    "def processes_plus(stack) : \n",
    "    top = stack.pop()\n",
    "    second_to_top = stack.pop()\n",
    "    result = second_to_top + top\n",
    "    stack.push(result) \n",
    "    \n",
    "def processes_times(stack) : \n",
    "    top = stack.pop()\n",
    "    second_to_top = stack.pop()\n",
    "    result = second_to_top * top\n",
    "    stack.push(result) \n",
    "    \n",
    "def processes_divide(stack) : \n",
    "    top = stack.pop()\n",
    "    second_to_top = stack.pop()\n",
    "    result = second_to_top / top\n",
    "    stack.push(result) \n",
    "    \n",
    "def processes_pow(stack) : \n",
    "    top = stack.pop()\n",
    "    second_to_top = stack.pop()\n",
    "    result = second_to_top ** top\n",
    "    stack.push(result) "
   ]
  },
  {
   "cell_type": "markdown",
   "metadata": {},
   "source": [
    "## Evaluating Postfix Expressions \n",
    "\n",
    "To make an algorithm to evaluate an expression in postfix notation. We need to do the following : \n",
    "\n",
    "1. Tokenize the expresssion using the tokenize() function\n",
    "2. Initialize an empty stack\n",
    "3. For each token, do the following :\n",
    "    1. if the token ist an operator, call the corresponding function to process it. \n",
    "    2. Otherwise (the token is a number) we push that number to the top of the stack. Since each token is a string, We'll need to convert it to a float first\n",
    "4. return the value that is left in the stack "
   ]
  },
  {
   "cell_type": "code",
   "execution_count": 9,
   "metadata": {},
   "outputs": [],
   "source": [
    "def evaluate_postfix(expression) : \n",
    "    # Step 1\n",
    "    tokenized_string = tokenize(expression)\n",
    "    # Step 2\n",
    "    stack = Stack() \n",
    "    # Step 3\n",
    "    for token in tokenized_string : \n",
    "        if token == \"-\" : \n",
    "            processes_minus(stack)\n",
    "        elif token == \"+\" : \n",
    "            processes_plus(stack)\n",
    "        elif token == \"*\" :\n",
    "            processes_times(stack)\n",
    "        elif token == \"/\" : \n",
    "            processes_divide(stack)\n",
    "        elif token == \"**\" :\n",
    "            processes_pow(stack)\n",
    "        else : \n",
    "            stack.push(float(token))\n",
    "    # Step 4\n",
    "    return stack.pop()"
   ]
  },
  {
   "cell_type": "code",
   "execution_count": 10,
   "metadata": {},
   "outputs": [
    {
     "name": "stdout",
     "output_type": "stream",
     "text": [
      "-2.0\n",
      "8.0\n",
      "0.0\n",
      "2.0\n",
      "11.25\n",
      "45.0\n",
      "42.0\n",
      "4.0\n",
      "2.0\n"
     ]
    }
   ],
   "source": [
    "# Testing function\n",
    "\n",
    "expressions = [\n",
    "    \"4 6 -\",\n",
    "    \"4 1 2 9 3 / * + 5 - *\",\n",
    "    \"1 2 + 3 -\",\n",
    "    \"1 2 - 3 +\",\n",
    "    \"10 3 5 * 16 4 - / +\",\n",
    "    \"5 3 4 2 - ** *\",\n",
    "    \"12 2 4 + / 21 *\",\n",
    "    \"1 1 + 2 **\",\n",
    "    \"1 1 2 ** +\"\n",
    "]\n",
    "\n",
    "for expression in expressions : \n",
    "    print(evaluate_postfix(expression))"
   ]
  },
  {
   "cell_type": "markdown",
   "metadata": {},
   "source": [
    "## Operator Precednece in Infix Notation \n",
    "\n",
    "Like before, to simplify tokenizing the expression, we'll assume that the infix expression string contains spaces between any two tokens (even the parentheses). To convert an expression from to postfix, we'll implement the Shunting-yard algorithm. In the Shunting-yard algorithm, we'll need to compare the precedence of the operators. "
   ]
  },
  {
   "cell_type": "code",
   "execution_count": 11,
   "metadata": {},
   "outputs": [
    {
     "name": "stdout",
     "output_type": "stream",
     "text": [
      "True\n"
     ]
    }
   ],
   "source": [
    "precedence = {'+' : 1, '-' : 1, '*' : 2, '/' : 2, '**' : 3}\n",
    "\n",
    "print(precedence['+'] < precedence['**'])"
   ]
  },
  {
   "cell_type": "markdown",
   "metadata": {},
   "source": [
    "## From Infix to Postfix\n",
    "\n",
    "This function will implement the Shunting-yard algorithm. It starts by tokenizing the psotfix expression, and then it processes the token one by one using a stack. It builds the bostfix expression by keeping track of a list named postfix, which will contain the list of tokens in psotfix order.\n",
    "\n",
    "- Opening parenthesis, ( \n",
    "    1. Push the token into the stack for later use when we find a closing parenthesis\n",
    "- Closing parenthesis, )\n",
    "    1. While the top of the stack isn't an opening parenthesis, (, pop the top element, and append it to the psotfix token list.\n",
    "    2. Pop the opening parentheses out of the stack at the end \n",
    "- Operator, +, -, *, /, ** \n",
    "    1. While the top of the stack is also an opertor with a precedence greater than or equal to this operator, pop the top element, and append it to the postfix token list.\n",
    "    2. Push the current operator to the top of the stack.\n",
    "- Operand (any number) : \n",
    "    1. Append the number to the postfix token list."
   ]
  },
  {
   "cell_type": "markdown",
   "metadata": {},
   "source": [
    "### Opening parenthesis"
   ]
  },
  {
   "cell_type": "code",
   "execution_count": 29,
   "metadata": {},
   "outputs": [],
   "source": [
    "def process_opening_parenthesis(stack) : \n",
    "    stack.push(\"(\") "
   ]
  },
  {
   "cell_type": "markdown",
   "metadata": {},
   "source": [
    "### Closing parenthesis "
   ]
  },
  {
   "cell_type": "code",
   "execution_count": 30,
   "metadata": {},
   "outputs": [],
   "source": [
    "def process_closing_parenthesis(stack, postfix) : \n",
    "    while stack.peek() != \"(\" : \n",
    "        postfix.append(stack.pop())\n",
    "    stack.pop()"
   ]
  },
  {
   "cell_type": "markdown",
   "metadata": {},
   "source": [
    "### Operator, +, -, *, / or \\***"
   ]
  },
  {
   "cell_type": "code",
   "execution_count": 36,
   "metadata": {},
   "outputs": [],
   "source": [
    "def process_operator(stack, postfix, operator) : \n",
    "    while len(stack) > 0 and stack.peek() in precedence and precedence[stack.peek()] >= precedence[operator] : \n",
    "        postfix.append(stack.pop())\n",
    "    stack.push(operator)"
   ]
  },
  {
   "cell_type": "markdown",
   "metadata": {},
   "source": [
    "### Operand(any number)"
   ]
  },
  {
   "cell_type": "code",
   "execution_count": 37,
   "metadata": {},
   "outputs": [],
   "source": [
    "def process_number(postfix, number) : \n",
    "    postfix.append(number)"
   ]
  },
  {
   "cell_type": "markdown",
   "metadata": {},
   "source": [
    "## Implementing the Shunting-yard Algorithm\n",
    "\n",
    "We now have all the pieces we need to implement the infix_to_postfix() function that converts an expression from infix notation to postfix notation.\n",
    "\n",
    "1. We start by splitting the expression into tokens using the tokenize() function.\n",
    "2. We initialize an empty stack.\n",
    "3. We initialize an empty postfix token list.\n",
    "4. Iterate over all tokens, and for each, do the following:\n",
    "    - If the token is \"(\", we call the process_opening_parenthesis() function.\n",
    "    - If the token is \")\", we call the process_closing_parenthesis() function.\n",
    "    - If the token is an operator, we call the process_operator() function.\n",
    "    - Otherwise, the token is a number, and we call the process_number() function.\n",
    "5. After processing all tokens, we use a while loop to pop the remaining stack element into the postfix token list.\n",
    "6. Use the str.join() method to convert the postfix token list into a string."
   ]
  },
  {
   "cell_type": "code",
   "execution_count": 38,
   "metadata": {},
   "outputs": [],
   "source": [
    "def infix_to_postfix(expression) :\n",
    "    tokens = tokenize(expression) \n",
    "    stack = Stack() \n",
    "    postfix = []\n",
    "    \n",
    "    for token in tokens : \n",
    "        if token == \"(\" : \n",
    "            process_opening_parenthesis(stack)  \n",
    "        elif token == \")\" :\n",
    "            process_closing_parenthesis(stack, postfix) \n",
    "        elif token in precedence : \n",
    "            process_operator(stack, postfix, token)\n",
    "        else : \n",
    "            process_number(postfix, token) \n",
    "    \n",
    "    while len(stack) > 0 :\n",
    "        postfix.append(stack.pop())\n",
    "    return \" \".join(postfix) "
   ]
  },
  {
   "cell_type": "markdown",
   "metadata": {},
   "source": [
    "## Evaluating Infix expressions"
   ]
  },
  {
   "cell_type": "code",
   "execution_count": 39,
   "metadata": {},
   "outputs": [],
   "source": [
    "def evaluate(expression) : \n",
    "    postfix_expression = infix_to_postfix(expression)\n",
    "    return evaluate_postfix(postfix_expression) "
   ]
  },
  {
   "cell_type": "code",
   "execution_count": 40,
   "metadata": {},
   "outputs": [
    {
     "name": "stdout",
     "output_type": "stream",
     "text": [
      "2.0\n",
      "0.0\n",
      "8.0\n",
      "11.25\n",
      "256.0\n",
      "65536.0\n",
      "0.5\n",
      "9.0\n",
      "1.0\n"
     ]
    }
   ],
   "source": [
    "# Testing \n",
    "\n",
    "expressions = [\n",
    "    \"1 + 1\",\n",
    "    \"1 * ( 2 - ( 1 + 1 ) )\",\n",
    "    \"4 * ( 1 + 2 * ( 9 / 3 ) - 5 )\",\n",
    "    \"10 + 3 * 5 / ( 16 - 4 * 1 )\",\n",
    "    \"2 * 2 * 2 * 2 * 2 * 2 * 2 * 2\",\n",
    "    \"2 ** 2 ** 2 ** 2 ** 2\",\n",
    "    \"( 1 - 2 ) / ( 3 - 5 )\",\n",
    "    \"9 / 8 * 8\",\n",
    "    \"64 / ( 8 * 8 )\",\n",
    "]\n",
    "\n",
    "for expression in expressions :\n",
    "    print(evaluate(expression))"
   ]
  },
  {
   "cell_type": "markdown",
   "metadata": {},
   "source": [
    "## Final Code "
   ]
  },
  {
   "cell_type": "code",
   "execution_count": 41,
   "metadata": {},
   "outputs": [],
   "source": [
    "from linked_list import LinkedList \n",
    "\n",
    "class Stack(LinkedList):\n",
    "\n",
    "    def push(self, data):\n",
    "        self.append(data)\n",
    "\n",
    "    def peek(self):\n",
    "        return self.tail.data\n",
    "\n",
    "    def pop(self) : \n",
    "        ret = self.tail.data \n",
    "        if self.length == 1 :\n",
    "            self.tail = None \n",
    "        else : \n",
    "            self.tail = self.tail.prev\n",
    "            self.tail.next = None \n",
    "        self.length -= 1 \n",
    "        return ret \n",
    "\n",
    "def tokenize(string) :\n",
    "    return string.split()\n",
    "\n",
    "def processes_minus(stack) : \n",
    "    top = stack.pop()\n",
    "    second_to_top = stack.pop()\n",
    "    result = second_to_top - top\n",
    "    stack.push(result) \n",
    "    \n",
    "def processes_plus(stack) : \n",
    "    top = stack.pop()\n",
    "    second_to_top = stack.pop()\n",
    "    result = second_to_top + top\n",
    "    stack.push(result) \n",
    "    \n",
    "def processes_times(stack) : \n",
    "    top = stack.pop()\n",
    "    second_to_top = stack.pop()\n",
    "    result = second_to_top * top\n",
    "    stack.push(result) \n",
    "    \n",
    "def processes_divide(stack) : \n",
    "    top = stack.pop()\n",
    "    second_to_top = stack.pop()\n",
    "    result = second_to_top / top\n",
    "    stack.push(result) \n",
    "    \n",
    "def processes_pow(stack) : \n",
    "    top = stack.pop()\n",
    "    second_to_top = stack.pop()\n",
    "    result = second_to_top ** top\n",
    "    stack.push(result) \n",
    "\n",
    "def evaluate_postfix(expression) : \n",
    "    # Step 1\n",
    "    tokenized_string = tokenize(expression)\n",
    "    # Step 2\n",
    "    stack = Stack() \n",
    "    # Step 3\n",
    "    for token in tokenized_string : \n",
    "        if token == \"-\" : \n",
    "            processes_minus(stack)\n",
    "        elif token == \"+\" : \n",
    "            processes_plus(stack)\n",
    "        elif token == \"*\" :\n",
    "            processes_times(stack)\n",
    "        elif token == \"/\" : \n",
    "            processes_divide(stack)\n",
    "        elif token == \"**\" :\n",
    "            processes_pow(stack)\n",
    "        else : \n",
    "            stack.push(float(token))\n",
    "    # Step 4\n",
    "    return stack.pop()\n",
    "\n",
    "def process_opening_parenthesis(stack) : \n",
    "    stack.push(\"(\") \n",
    "\n",
    "def process_closing_parenthesis(stack, postfix) : \n",
    "    while stack.peek() != \"(\" : \n",
    "        postfix.append(stack.pop())\n",
    "    stack.pop()\n",
    "\n",
    "def process_operator(stack, postfix, operator) : \n",
    "    while len(stack) > 0 and stack.peek() in precedence and precedence[stack.peek()] >= precedence[operator] : \n",
    "        postfix.append(stack.pop())\n",
    "    stack.push(operator)\n",
    "\n",
    "def process_number(postfix, number) : \n",
    "    postfix.append(number)\n",
    "\n",
    "def infix_to_postfix(expression) :\n",
    "    tokens = tokenize(expression) \n",
    "    stack = Stack() \n",
    "    postfix = []\n",
    "    \n",
    "    for token in tokens : \n",
    "        if token == \"(\" : \n",
    "            process_opening_parenthesis(stack)  \n",
    "        elif token == \")\" :\n",
    "            process_closing_parenthesis(stack, postfix) \n",
    "        elif token in precedence : \n",
    "            process_operator(stack, postfix, token)\n",
    "        else : \n",
    "            process_number(postfix, token) \n",
    "    \n",
    "    while len(stack) > 0 :\n",
    "        postfix.append(stack.pop())\n",
    "    return \" \".join(postfix) \n",
    "\n",
    "def evaluate(expression) : \n",
    "    postfix_expression = infix_to_postfix(expression)\n",
    "    return evaluate_postfix(postfix_expression) "
   ]
  }
 ],
 "metadata": {
  "kernelspec": {
   "display_name": "Python 3",
   "language": "python",
   "name": "python3"
  },
  "language_info": {
   "codemirror_mode": {
    "name": "ipython",
    "version": 3
   },
   "file_extension": ".py",
   "mimetype": "text/x-python",
   "name": "python",
   "nbconvert_exporter": "python",
   "pygments_lexer": "ipython3",
   "version": "3.8.2"
  }
 },
 "nbformat": 4,
 "nbformat_minor": 1
}
