{
 "cells": [
  {
   "cell_type": "markdown",
   "metadata": {},
   "source": [
    "# <center> Building a database for crime reports "
   ]
  },
  {
   "cell_type": "markdown",
   "metadata": {
    "collapsed": true
   },
   "source": [
    "# Goal of the project \n",
    "\n",
    "The goal of project is to create a database named 'crimes_db' with a table - boston_crimes - with apprporiate datatypes for storing the data from the 'boston.csv' file. We will be creating the table inside a schema named crimes. We will also create the readonly and readwrite groups with appropriate privileges. Finally, we will also need to create one user for each of these groups."
   ]
  },
  {
   "cell_type": "markdown",
   "metadata": {},
   "source": [
    "# Create database and schema \n",
    "\n",
    "We will start by creating a database for storing our crime data as well as schema for containing the tables. We will make database named 'crime_db' ans schema in it named 'crimes'. "
   ]
  },
  {
   "cell_type": "code",
   "execution_count": 66,
   "metadata": {},
   "outputs": [],
   "source": [
    "import psycopg2\n",
    "conn = psycopg2.connect(dbname=\"dq\", user=\"dq\")\n",
    "conn.autocommit = True \n",
    "cursor = conn.cursor()\n",
    "\n",
    "# Create database named crime_db\n",
    "cursor.execute(\"CREATE DATABASE crime_db OWNER dq;\")\n",
    "conn.close()\n",
    "\n",
    "# Connect to the crime_db and create shcema named crimes\n",
    "conn = psycopg2.connect(dbname=\"crime_db\", user=\"dq\")\n",
    "conn.autocommit = True \n",
    "cursor = conn.cursor()\n",
    "\n",
    "cursor.execute(\"CREATE SCHEMA crimes;\")"
   ]
  },
  {
   "cell_type": "markdown",
   "metadata": {},
   "source": [
    "# Read dataset\n",
    "\n",
    "Before we start creating tables, we need to gather some data about 'boston.csv'. "
   ]
  },
  {
   "cell_type": "code",
   "execution_count": 67,
   "metadata": {},
   "outputs": [
    {
     "name": "stdout",
     "output_type": "stream",
     "text": [
      "Headers : ['incident_number', 'offense_code', 'description', 'date', 'day_of_the_week', 'lat', 'long']\n"
     ]
    }
   ],
   "source": [
    "import csv\n",
    "\n",
    "with open('boston.csv') as file :\n",
    "    reader = csv.reader(file) \n",
    "    rows = [row for row in reader]\n",
    "    col_headers = rows[0]\n",
    "    first_row = rows[1]\n",
    "\n",
    "print(\"Headers : {}\".format(col_headers))"
   ]
  },
  {
   "cell_type": "markdown",
   "metadata": {},
   "source": [
    "# Check number and length of values in columns"
   ]
  },
  {
   "cell_type": "markdown",
   "metadata": {},
   "source": [
    "We need to identify the proper datatypes for the columns. To help us with that, we will use a function get_col_set() that, given the name of CSV file and a column index (starting from 0, computes a Python set with all disticnt values contained in that column.\n",
    "\n",
    "This function will be useful for two reasons:\n",
    "\n",
    "1. Checking whether an enumerated datatype might be a good choice for representing a column\n",
    "2. Computoing the maximum length of any text-like column to select appropriate sizes for VARCHAR columns "
   ]
  },
  {
   "cell_type": "code",
   "execution_count": 68,
   "metadata": {},
   "outputs": [],
   "source": [
    "def get_col_set(csv_filename, col_index) : \n",
    "    col_set = set()\n",
    "    with open(csv_filename) as file : \n",
    "        reader = csv.reader(file) \n",
    "        for row in reader :\n",
    "            val = row[col_index]\n",
    "            if val not in col_set : \n",
    "                col_set.add(val) \n",
    "    return col_set "
   ]
  },
  {
   "cell_type": "code",
   "execution_count": 69,
   "metadata": {},
   "outputs": [
    {
     "name": "stdout",
     "output_type": "stream",
     "text": [
      "The number of incident_number : 298330\n",
      "The number of offense_code : 220\n",
      "The number of description : 240\n",
      "The number of date : 1178\n",
      "The number of day_of_the_week : 8\n",
      "The number of lat : 18178\n",
      "The number of long : 18178\n"
     ]
    }
   ],
   "source": [
    "# Compute each of seven columns the number of differnt values it comes \n",
    "\n",
    "for num in range(len(col_headers)) : \n",
    "    num_val = len(get_col_set('boston.csv', num))\n",
    "    print(\"The number of {} : {}\".format(col_headers[num], num_val))"
   ]
  },
  {
   "cell_type": "markdown",
   "metadata": {},
   "source": [
    "There are some columns with a low number of distinct values offense_code, description, and day_of_the week. Because offense_code's type is number, we need to consider description and day_of_the_week to know the longest word. "
   ]
  },
  {
   "cell_type": "code",
   "execution_count": 70,
   "metadata": {},
   "outputs": [
    {
     "name": "stdout",
     "output_type": "stream",
     "text": [
      "The maximum length of any value in the description column is 58\n"
     ]
    }
   ],
   "source": [
    "# Compute the maximum length of any value in the description column\n",
    "\n",
    "description_values = get_col_set('boston.csv', 2)\n",
    "\n",
    "max_length = 0 \n",
    "for col_values in description_values :\n",
    "    if len(col_values) > max_length : \n",
    "        max_length = len(col_values) \n",
    "\n",
    "print(\"The maximum length of any value in the description column is {}\".format(max_length))"
   ]
  },
  {
   "cell_type": "markdown",
   "metadata": {},
   "source": [
    "Becuase the maximum length of any values in the description column is 58, we need to optimize datatype with VARCHAR(80). "
   ]
  },
  {
   "cell_type": "markdown",
   "metadata": {},
   "source": [
    "# Create table : boston_crimes \n",
    "\n",
    "Now we will create a table name 'boston_crimes' inside the crimes schema of crime_db database. We will change type of column date_of_the_week to enumerated type. Each of column names and data type when we create table is such as below.\n",
    "\n",
    "| Col name | Data type | \n",
    "|:---:|:---:|\n",
    "|incident_number|INTEGER|\n",
    "|offense_code|INTEGER|\n",
    "|description|VARCHAR(80)|\n",
    "|date|DATE|\n",
    "|day_of_the_week|ENUM|\n",
    "|lat|decimal|\n",
    "|long|decimal| "
   ]
  },
  {
   "cell_type": "code",
   "execution_count": 71,
   "metadata": {},
   "outputs": [
    {
     "name": "stdout",
     "output_type": "stream",
     "text": [
      "['incident_number', 'offense_code', 'description', 'date', 'day_of_the_week', 'lat', 'long']\n",
      "['1', '619', 'LARCENY ALL OTHERS', '2018-09-02', 'Sunday', '42.35779134', '-71.13937053']\n"
     ]
    }
   ],
   "source": [
    "# Identify suitable column names for table\n",
    "print(col_headers)\n",
    "\n",
    "# Identify the kind of data contained in each column \n",
    "print(first_row)"
   ]
  },
  {
   "cell_type": "code",
   "execution_count": 72,
   "metadata": {},
   "outputs": [],
   "source": [
    "# Create ENUM data type \n",
    "cursor.execute(\"CREATE TYPE day AS ENUM('Monday', 'Tuesday', 'Wednesday', 'Thursday', 'Friday', 'Saturday', 'Sunday');\")\n",
    "\n",
    "# Create table boston_crimes \n",
    "cursor.execute(\"\"\"\n",
    "    CREATE TABLE crimes.boston_crimes (\n",
    "        incident_number INTEGER PRIMARY KEY,\n",
    "        offense_code INTEGER,\n",
    "        description VARCHAR(80),\n",
    "        date DATE,\n",
    "        day_of_the_week day,\n",
    "        lat decimal,\n",
    "        long decimal\n",
    ");\"\"\")"
   ]
  },
  {
   "cell_type": "markdown",
   "metadata": {},
   "source": [
    "# Load data into boston_crimes "
   ]
  },
  {
   "cell_type": "code",
   "execution_count": 73,
   "metadata": {},
   "outputs": [],
   "source": [
    "with open('boston.csv') as file : \n",
    "    cursor.copy_expert(\"COPY crimes.boston_crimes FROM STDIN WITH CSV HEADER;\", file) "
   ]
  },
  {
   "cell_type": "code",
   "execution_count": 74,
   "metadata": {},
   "outputs": [
    {
     "name": "stdout",
     "output_type": "stream",
     "text": [
      "[(1, 619, 'LARCENY ALL OTHERS', datetime.date(2018, 9, 2), 'Sunday', Decimal('42.35779134'), Decimal('-71.13937053'))]\n"
     ]
    }
   ],
   "source": [
    "# check the result \n",
    "cursor.execute(\"SELECT * FROM crimes.boston_crimes LIMIT 1;\")\n",
    "boston_crimes = cursor.fetchall()\n",
    "print(boston_crimes)"
   ]
  },
  {
   "cell_type": "markdown",
   "metadata": {},
   "source": [
    "# Revoke public privileges \n",
    "\n",
    "Our goal is to create the two user groups that we have learned about : 'readonly' and 'readwrite'. "
   ]
  },
  {
   "cell_type": "code",
   "execution_count": 75,
   "metadata": {
    "collapsed": true
   },
   "outputs": [],
   "source": [
    "# Make sure that there are no privileges inherited from the pulbic group \n",
    "cursor.execute(\"REVOKE ALL ON SCHEMA public FROM public;\")\n",
    "cursor.execute(\"REVOKE ALL ON DATABASE crime_db FROM public;\")"
   ]
  },
  {
   "cell_type": "markdown",
   "metadata": {},
   "source": [
    "# Creating readonly and readwrite group \n",
    "\n",
    "The readonly group is supposed to only have privileges to perform SELECT queries. In contrast, we want to readwrite group to be able to perform SELECT, INSERT, DELETE, and UPDATE queries."
   ]
  },
  {
   "cell_type": "code",
   "execution_count": 76,
   "metadata": {},
   "outputs": [],
   "source": [
    "# Creating readonly group and give previleges \n",
    "cursor.execute(\"CREATE GROUP readonly NOLOGIN;\")\n",
    "cursor.execute(\"GRANT CONNECT ON DATABASE crime_db TO readonly;\")\n",
    "cursor.execute(\"GRANT USAGE ON SCHEMA crimes TO readonly;\")\n",
    "cursor.execute(\"GRANT SELECT ON ALL TABLES IN SCHEMA crimes TO readonly;\")\n",
    "\n",
    "# Creating readwrite group and give previleges \n",
    "cursor.execute(\"CREATE GROUP readwrite NOLOGIN;\")\n",
    "cursor.execute(\"GRANT CONNECT ON DATABASE crime_db TO readwrite;\")\n",
    "cursor.execute(\"GRANT USAGE ON SCHEMA crimes TO readwrite;\")\n",
    "cursor.execute(\"GRANT SELECT, INSERT, UPDATE, DELETE ON ALL TABLES IN SCHEMA crimes TO readwrite;\")"
   ]
  },
  {
   "cell_type": "markdown",
   "metadata": {},
   "source": [
    "# Create user\n",
    "\n",
    "We are nearly done with setting up our crime database. The only thing that we need to do is create users. "
   ]
  },
  {
   "cell_type": "code",
   "execution_count": 79,
   "metadata": {},
   "outputs": [],
   "source": [
    "cursor.execute(\"CREATE USER data_analyst WITH PASSWORD 'secret1';\")\n",
    "cursor.execute(\"GRANT readonly TO data_analyst;\")\n",
    "\n",
    "cursor.execute(\"CREATE USER data_scientist WITH PASSWORD 'secret2';\")\n",
    "cursor.execute(\"GRANT readwrite TO data_scientist;\")"
   ]
  },
  {
   "cell_type": "markdown",
   "metadata": {},
   "source": [
    "# Test setting up the database \n",
    "\n",
    "We will use SQL queries to check whether the objects have been created and that users are groups have the right privileges. We will query the pg_roles table to inspect privileges related to the database and the information_schema.table_privileges table to inspect table privileges.\n",
    "\n",
    "- pg_roles Columns \n",
    "    - rolname : Role name \n",
    "    - rolsuper : Role ahs super privileges \n",
    "    - rolcreatedb : Role can create databases\n",
    "    - rolcanlogin : Role can log in\n",
    "    \n",
    "- information_shcema.table_privileges\n",
    "    - grantee, privilege_type"
   ]
  },
  {
   "cell_type": "code",
   "execution_count": 80,
   "metadata": {},
   "outputs": [
    {
     "name": "stdout",
     "output_type": "stream",
     "text": [
      "('readonly', False, False, False)\n",
      "('readwrite', False, False, False)\n",
      "('data_analyst', False, False, True)\n",
      "('data_scientist', False, False, True)\n",
      "\n",
      "\n",
      "('readonly', 'SELECT')\n",
      "('readwrite', 'INSERT')\n",
      "('readwrite', 'SELECT')\n",
      "('readwrite', 'UPDATE')\n",
      "('readwrite', 'DELETE')\n"
     ]
    }
   ],
   "source": [
    "# Close the old connection and re open it \n",
    "conn.close()\n",
    "\n",
    "conn = psycopg2.connect(dbname=\"crime_db\", user=\"dq\")\n",
    "cursor = conn.cursor()\n",
    "\n",
    "# Check user and groups \n",
    "cursor.execute(\"\"\"\n",
    "    SELECT rolname, rolsuper, rolcreatedb, rolcanlogin FROM pg_roles \n",
    "    WHERE rolname IN ('readonly', 'readwrite', 'data_analyst', 'data_scientist');\n",
    "\"\"\")\n",
    "users = cursor.fetchall()\n",
    "\n",
    "for user in users : \n",
    "    print(user)\n",
    "print(\"\\n\")\n",
    "\n",
    "# Check privileges \n",
    "cursor.execute(\"\"\"\n",
    "    SELECT grantee, privilege_type FROM information_schema.table_privileges\n",
    "    WHERE grantee IN ('readonly', 'readwrite')\n",
    "\"\"\")\n",
    "privileges = cursor.fetchall()\n",
    "\n",
    "for privilege in privileges : \n",
    "    print(privilege)"
   ]
  }
 ],
 "metadata": {
  "kernelspec": {
   "display_name": "Python 3",
   "language": "python",
   "name": "python3"
  },
  "language_info": {
   "codemirror_mode": {
    "name": "ipython",
    "version": 3
   },
   "file_extension": ".py",
   "mimetype": "text/x-python",
   "name": "python",
   "nbconvert_exporter": "python",
   "pygments_lexer": "ipython3",
   "version": "3.8.8"
  },
  "toc": {
   "base_numbering": 1,
   "nav_menu": {},
   "number_sections": true,
   "sideBar": true,
   "skip_h1_title": false,
   "title_cell": "Table of Contents",
   "title_sidebar": "Contents",
   "toc_cell": false,
   "toc_position": {},
   "toc_section_display": true,
   "toc_window_display": false
  },
  "varInspector": {
   "cols": {
    "lenName": 16,
    "lenType": 16,
    "lenVar": 40
   },
   "kernels_config": {
    "python": {
     "delete_cmd_postfix": "",
     "delete_cmd_prefix": "del ",
     "library": "var_list.py",
     "varRefreshCmd": "print(var_dic_list())"
    },
    "r": {
     "delete_cmd_postfix": ") ",
     "delete_cmd_prefix": "rm(",
     "library": "var_list.r",
     "varRefreshCmd": "cat(var_dic_list()) "
    }
   },
   "types_to_exclude": [
    "module",
    "function",
    "builtin_function_or_method",
    "instance",
    "_Feature"
   ],
   "window_display": false
  }
 },
 "nbformat": 4,
 "nbformat_minor": 2
}
