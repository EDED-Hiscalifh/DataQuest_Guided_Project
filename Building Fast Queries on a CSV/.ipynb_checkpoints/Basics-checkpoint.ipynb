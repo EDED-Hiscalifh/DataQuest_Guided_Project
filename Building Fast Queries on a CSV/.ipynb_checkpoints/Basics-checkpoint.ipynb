{
 "cells": [
  {
   "cell_type": "markdown",
   "metadata": {},
   "source": [
    "# Building Fast Queries on a CSV"
   ]
  },
  {
   "cell_type": "markdown",
   "metadata": {},
   "source": [
    "Our goal is to build a way to answer a few different business questions about our inventory. we will use \"laptop.csv\" file as our inventory. This CSV file was adapted from the [Laptop Prices dataset on Kaggle](https://www.kaggle.com/datasets/ionaskel/laptop-prices). We changed the IDs and made the prices integers. \n",
    "\n",
    "Here is a brief description of the row : \n",
    "\n",
    "- ID: A unique identifier for the laptop.\n",
    "- Company: The name of the company that produces the laptop.\n",
    "- Product: The name of the laptop.\n",
    "- TypeName: The type of laptop.\n",
    "- Inches: The size of the screen in inches.\n",
    "- ScreenResolution: The resolution of the screen.\n",
    "- CPU: The laptop CPU.\n",
    "- RAM: The amount of RAM in the laptop.\n",
    "- Memory: The size of the hard drive.\n",
    "- GPU: The graphics card name.\n",
    "- OpSys: The name of the operating system.\n",
    "- Weight: The laptop weight.\n",
    "- Price: The price of the laptop."
   ]
  },
  {
   "cell_type": "markdown",
   "metadata": {},
   "source": [
    "## Reading file"
   ]
  },
  {
   "cell_type": "code",
   "execution_count": 1,
   "metadata": {},
   "outputs": [
    {
     "name": "stdout",
     "output_type": "stream",
     "text": [
      "['Id', 'Company', 'Product', 'TypeName', 'Inches', 'ScreenResolution', 'Cpu', 'Ram', 'Memory', 'Gpu', 'OpSys', 'Weight', 'Price']\n",
      "\n",
      "\n",
      "[['6571244', 'Apple', 'MacBook Pro', 'Ultrabook', '13.3', 'IPS Panel Retina Display 2560x1600', 'Intel Core i5 2.3GHz', '8GB', '128GB SSD', 'Intel Iris Plus Graphics 640', 'macOS', '1.37kg', '1339'], ['7287764', 'Apple', 'Macbook Air', 'Ultrabook', '13.3', '1440x900', 'Intel Core i5 1.8GHz', '8GB', '128GB Flash Storage', 'Intel HD Graphics 6000', 'macOS', '1.34kg', '898'], ['3362737', 'HP', '250 G6', 'Notebook', '15.6', 'Full HD 1920x1080', 'Intel Core i5 7200U 2.5GHz', '8GB', '256GB SSD', 'Intel HD Graphics 620', 'No OS', '1.86kg', '575'], ['9722156', 'Apple', 'MacBook Pro', 'Ultrabook', '15.4', 'IPS Panel Retina Display 2880x1800', 'Intel Core i7 2.7GHz', '16GB', '512GB SSD', 'AMD Radeon Pro 455', 'macOS', '1.83kg', '2537'], ['8550527', 'Apple', 'MacBook Pro', 'Ultrabook', '13.3', 'IPS Panel Retina Display 2560x1600', 'Intel Core i5 3.1GHz', '8GB', '256GB SSD', 'Intel Iris Plus Graphics 650', 'macOS', '1.37kg', '1803']]\n"
     ]
    }
   ],
   "source": [
    "# Reading file\n",
    "\n",
    "import csv\n",
    "\n",
    "with open(\"laptops.csv\", encoding = \"UTF-8\") as file : \n",
    "    file = list(csv.reader(file))\n",
    "    header = file[0]\n",
    "    rows = file[1:]\n",
    "\n",
    "print(header)\n",
    "print(\"\\n\")\n",
    "print(rows[:5])"
   ]
  },
  {
   "cell_type": "markdown",
   "metadata": {},
   "source": [
    "The goal of this project is to greate a class that represennts our inventory. The methods in that class will implement the queries that we want to answer about our inventory. Here are some queries that we will want to answer : \n",
    "\n",
    "- Given a laptop id, find the corresponding data.\n",
    "- Given an amount of money, find whether there are two laptops whose total prices is that given amount\n",
    "- Identify all laptops whose price falls within a given budget."
   ]
  },
  {
   "cell_type": "markdown",
   "metadata": {},
   "source": [
    "## Making Class Inventory"
   ]
  },
  {
   "cell_type": "code",
   "execution_count": 2,
   "metadata": {},
   "outputs": [],
   "source": [
    "class Inventory() : \n",
    "    \n",
    "    def __init__(self, csv_filename) : \n",
    "        with open(csv_filename, encoding = \"UTF-8\") as file : \n",
    "            file = list(csv.reader(file))\n",
    "            header = file[0]\n",
    "            rows = file[1:]\n",
    "        self.header = header\n",
    "        self.rows = rows \n",
    "        for row in self.rows : \n",
    "            row[-1] = int(row[-1])"
   ]
  },
  {
   "cell_type": "code",
   "execution_count": 3,
   "metadata": {},
   "outputs": [
    {
     "name": "stdout",
     "output_type": "stream",
     "text": [
      "['Id', 'Company', 'Product', 'TypeName', 'Inches', 'ScreenResolution', 'Cpu', 'Ram', 'Memory', 'Gpu', 'OpSys', 'Weight', 'Price']\n",
      "\n",
      "\n",
      "Length of dataset : 1303\n"
     ]
    }
   ],
   "source": [
    "inventory = Inventory(\"laptops.csv\")\n",
    "print(inventory.header)\n",
    "print(\"\\n\")\n",
    "print(f\"Length of dataset : {len(inventory.rows)}\")"
   ]
  },
  {
   "cell_type": "markdown",
   "metadata": {},
   "source": [
    "## Method finding information about specific laptop_id"
   ]
  },
  {
   "cell_type": "markdown",
   "metadata": {},
   "source": [
    "The first thing that we will implement is a way to look up a laptop from a given identifier. In this way, when a customer comes to our store with a purchase slip, we can quickly identify the laptop to which it corresponds. For this, we will write a function get_laptop_from_id(). This function will take as argument the identifier of the laptop and return the full row of the laptop with that id. "
   ]
  },
  {
   "cell_type": "code",
   "execution_count": 4,
   "metadata": {},
   "outputs": [],
   "source": [
    "class Inventory() : \n",
    "    \n",
    "    def __init__(self, csv_filename) : \n",
    "        with open(csv_filename, encoding = \"UTF-8\") as file : \n",
    "            file = list(csv.reader(file))\n",
    "            header = file[0]\n",
    "            rows = file[1:]\n",
    "        self.header = header\n",
    "        self.rows = rows \n",
    "        for row in self.rows : \n",
    "            row[-1] = int(row[-1])\n",
    "            \n",
    "    def get_laptop_from_id(self, laptop_id) : \n",
    "        for row in self.rows : \n",
    "            if laptop_id in row : \n",
    "                return row \n",
    "        return None"
   ]
  },
  {
   "cell_type": "code",
   "execution_count": 5,
   "metadata": {},
   "outputs": [
    {
     "name": "stdout",
     "output_type": "stream",
     "text": [
      "The result of query '3362737' : ['3362737', 'HP', '250 G6', 'Notebook', '15.6', 'Full HD 1920x1080', 'Intel Core i5 7200U 2.5GHz', '8GB', '256GB SSD', 'Intel HD Graphics 620', 'No OS', '1.86kg', 575]\n",
      "The result of query '3362736' : None\n"
     ]
    }
   ],
   "source": [
    "inventory = Inventory(\"laptops.csv\")\n",
    "print(f\"The result of query '3362737' : {inventory.get_laptop_from_id('3362737')}\")\n",
    "print(f\"The result of query '3362736' : {inventory.get_laptop_from_id('3362736')}\")"
   ]
  },
  {
   "cell_type": "markdown",
   "metadata": {},
   "source": [
    "This algorithm requires us to look at every single row to find the one that we are looking for. This algorithm has time complexity O(N). Howver, by using a set, we can check in constant time whether a given identifier exists. \n",
    "\n",
    "We will use a dictionary instead of a set. The idea is preprocesse the data into a dictionary where the keys are the IDs and the values the rows. "
   ]
  },
  {
   "cell_type": "code",
   "execution_count": 6,
   "metadata": {},
   "outputs": [],
   "source": [
    "class Inventory() : \n",
    "    \n",
    "    def __init__(self, csv_filename) : \n",
    "        with open(csv_filename, encoding = \"UTF-8\") as file : \n",
    "            file = list(csv.reader(file))\n",
    "            header = file[0]\n",
    "            rows = file[1:]\n",
    "        self.header = header\n",
    "        self.rows = rows \n",
    "        for row in self.rows : \n",
    "            row[-1] = int(row[-1])\n",
    "        self.id_to_row = {}\n",
    "        for row in self.rows : \n",
    "            row_id = row[0]\n",
    "            row_value = row[1:]\n",
    "            self.id_to_row[row_id] = row_value\n",
    "            \n",
    "    def get_laptop_from_id(self, laptop_id) : \n",
    "        for row in self.rows : \n",
    "            if laptop_id in row : \n",
    "                return row \n",
    "        return None\n",
    "            \n",
    "    def get_laptop_from_id_fast(self, laptop_id) : \n",
    "        if laptop_id in self.id_to_row : \n",
    "            return self.id_to_row[laptop_id]\n",
    "        return None"
   ]
  },
  {
   "cell_type": "code",
   "execution_count": 7,
   "metadata": {},
   "outputs": [
    {
     "name": "stdout",
     "output_type": "stream",
     "text": [
      "The result of query '3362737' : ['HP', '250 G6', 'Notebook', '15.6', 'Full HD 1920x1080', 'Intel Core i5 7200U 2.5GHz', '8GB', '256GB SSD', 'Intel HD Graphics 620', 'No OS', '1.86kg', 575]\n",
      "The result of query '3362736' : None\n"
     ]
    }
   ],
   "source": [
    "inventory = Inventory(\"laptops.csv\")\n",
    "print(f\"The result of query '3362737' : {inventory.get_laptop_from_id_fast('3362737')}\")\n",
    "print(f\"The result of query '3362736' : {inventory.get_laptop_from_id_fast('3362736')}\")"
   ]
  },
  {
   "cell_type": "markdown",
   "metadata": {},
   "source": [
    "## Measure of time excution between two algorithms"
   ]
  },
  {
   "cell_type": "markdown",
   "metadata": {},
   "source": [
    "The get_laptop_from_id() method has time complexity O(N) where N is the number of rows. In contrast, the new imploementation as time complexity O(1). It does by using more memory to store the self.id_to_row dictionary and using a bit more times creating an instance. Let's experiment to compare the performance of the two methods. "
   ]
  },
  {
   "cell_type": "code",
   "execution_count": 8,
   "metadata": {},
   "outputs": [],
   "source": [
    "import time\n",
    "import random \n",
    "\n",
    "ids = [str(random.randint(1000000, 9999999)) for _ in range(10000)]\n",
    "\n",
    "class Inventory() : \n",
    "    \n",
    "    def __init__(self, csv_filename) : \n",
    "        with open(csv_filename, encoding = \"UTF-8\") as file : \n",
    "            file = list(csv.reader(file))\n",
    "            header = file[0]\n",
    "            rows = file[1:]\n",
    "        self.header = header\n",
    "        self.rows = rows \n",
    "        for row in self.rows : \n",
    "            row[-1] = int(row[-1])\n",
    "        self.id_to_row = {}\n",
    "        for row in self.rows : \n",
    "            row_id = row[0]\n",
    "            row_value = row[1:]\n",
    "            self.id_to_row[row_id] = row_value\n",
    "            \n",
    "    def get_laptop_from_id(self, laptop_id) : \n",
    "        for row in self.rows : \n",
    "            if laptop_id in row : \n",
    "                return row \n",
    "        return None\n",
    "            \n",
    "    def get_laptop_from_id_fast(self, laptop_id) : \n",
    "        if laptop_id in self.id_to_row : \n",
    "            return self.id_to_row[laptop_id]\n",
    "        return None  "
   ]
  },
  {
   "cell_type": "code",
   "execution_count": 9,
   "metadata": {},
   "outputs": [],
   "source": [
    "inventory = Inventory(\"laptops.csv\")\n",
    "total_time_no_dict = 0    # This variable will aggregate the times of calling get_laptop_from_id()\n",
    "\n",
    "for lap_id in ids : \n",
    "    start = time.time()\n",
    "    inventory.get_laptop_from_id(lap_id)\n",
    "    end = time.time()\n",
    "    total_time_no_dict += end-start \n",
    "    \n",
    "total_time_dict = 0    # This variable will aggregate the times of calling get_laptop_from_id_fast()\n",
    "\n",
    "for lap_id in ids : \n",
    "    start = time.time()\n",
    "    inventory.get_laptop_from_id_fast(lap_id)\n",
    "    end = time.time()\n",
    "    total_time_dict += end-start"
   ]
  },
  {
   "cell_type": "code",
   "execution_count": 10,
   "metadata": {},
   "outputs": [
    {
     "name": "stdout",
     "output_type": "stream",
     "text": [
      "Total time of get_laptop_from_id() : 3.390949249267578\n",
      "Total time of get_laptop_from_id_fast() : 0.004830121994018555\n"
     ]
    }
   ],
   "source": [
    "print(f\"Total time of get_laptop_from_id() : {total_time_no_dict}\")\n",
    "print(f\"Total time of get_laptop_from_id_fast() : {total_time_dict}\")"
   ]
  },
  {
   "cell_type": "markdown",
   "metadata": {},
   "source": [
    "Execution times of get_laptop_from_id_fast is faster than get_laptop_from_id about 3000 times. "
   ]
  },
  {
   "cell_type": "markdown",
   "metadata": {},
   "source": [
    "## Purchasing up to two laptops spend exact dollars "
   ]
  },
  {
   "cell_type": "markdown",
   "metadata": {},
   "source": [
    "Sometimes, our store offers a promotion where you give a gift card. A customer can use the gift to buy up to two laptops. To avoid having to keep track of what was already spent, the gift card has a single time usage. This means that, even if there is leftover money, it cannot be used anymore.\n",
    "\n",
    "Our customers might feel cheated when no matter how they spend their gift card, they cannot spend the full gift card usage. we don't want to make a customer feel cheated, so whenever we issue a gift card, we want to make sure that there is at least one way to spend it in full. "
   ]
  },
  {
   "cell_type": "code",
   "execution_count": 11,
   "metadata": {},
   "outputs": [],
   "source": [
    "class Inventory() : \n",
    "    \n",
    "    def __init__(self, csv_filename) : \n",
    "        with open(csv_filename, encoding = \"UTF-8\") as file : \n",
    "            file = list(csv.reader(file))\n",
    "            header = file[0]\n",
    "            rows = file[1:]\n",
    "        self.header = header\n",
    "        self.rows = rows \n",
    "        for row in self.rows : \n",
    "            row[-1] = int(row[-1])\n",
    "        self.id_to_row = {}\n",
    "        for row in self.rows : \n",
    "            row_id = row[0]\n",
    "            row_value = row[1:]\n",
    "            self.id_to_row[row_id] = row_value\n",
    "            \n",
    "    def get_laptop_from_id(self, laptop_id) : \n",
    "        for row in self.rows : \n",
    "            if laptop_id in row : \n",
    "                return row \n",
    "        return None\n",
    "            \n",
    "    def get_laptop_from_id_fast(self, laptop_id) : \n",
    "        if laptop_id in self.id_to_row : \n",
    "            return self.id_to_row[laptop_id]\n",
    "        return None  \n",
    "    \n",
    "    def check_promotion_dollars(self, dollars) : \n",
    "        for row in self.rows : \n",
    "            if dollars == row[-1] : \n",
    "                return True \n",
    "        for row1 in self.rows : \n",
    "            for row2 in self.rows : \n",
    "                if row1[-1] + row2[-1] == dollars :\n",
    "                    return True \n",
    "        return False "
   ]
  },
  {
   "cell_type": "code",
   "execution_count": 12,
   "metadata": {},
   "outputs": [
    {
     "name": "stdout",
     "output_type": "stream",
     "text": [
      "Can I buy a laptop with 1000 dollars? : True\n",
      "Can I buy a laptop with 1000 dollars? : False\n"
     ]
    }
   ],
   "source": [
    "inventory = Inventory('laptops.csv')\n",
    "print(f\"Can I buy a laptop with 1000 dollars? : {inventory.check_promotion_dollars(1000)}\")\n",
    "print(f\"Can I buy a laptop with 1000 dollars? : {inventory.check_promotion_dollars(442)}\")"
   ]
  },
  {
   "cell_type": "markdown",
   "metadata": {},
   "source": [
    "For more faster execution, we can store all laptops prices in a set when we initialize the inventory. Then we can check in constant time whether there is a laptop with a given price."
   ]
  },
  {
   "cell_type": "code",
   "execution_count": 13,
   "metadata": {},
   "outputs": [],
   "source": [
    "class Inventory() : \n",
    "    \n",
    "    def __init__(self, csv_filename) : \n",
    "        with open(csv_filename, encoding = \"UTF-8\") as file : \n",
    "            file = list(csv.reader(file))\n",
    "            header = file[0]\n",
    "            rows = file[1:]\n",
    "            \n",
    "        self.header = header\n",
    "        self.rows = rows \n",
    "        for row in self.rows : \n",
    "            row[-1] = int(row[-1])\n",
    "            \n",
    "        self.id_to_row = {}\n",
    "        for row in self.rows : \n",
    "            row_id = row[0]\n",
    "            row_value = row[1:]\n",
    "            self.id_to_row[row_id] = row_value\n",
    "            \n",
    "        self.prices = set()\n",
    "        for row in self.rows :\n",
    "            price = row[-1]\n",
    "            self.prices.add(price)\n",
    "            \n",
    "    def get_laptop_from_id(self, laptop_id) : \n",
    "        for row in self.rows : \n",
    "            if laptop_id in row : \n",
    "                return row \n",
    "        return None\n",
    "            \n",
    "    def get_laptop_from_id_fast(self, laptop_id) : \n",
    "        if laptop_id in self.id_to_row : \n",
    "            return self.id_to_row[laptop_id]\n",
    "        return None  \n",
    "    \n",
    "    def check_promotion_dollars(self, dollars) : \n",
    "        for row in self.rows : \n",
    "            if dollars == row[-1] : \n",
    "                return True \n",
    "        for row1 in self.rows : \n",
    "            for row2 in self.rows : \n",
    "                if row1[-1] + row2[-1] == dollars :\n",
    "                    return True \n",
    "        return False \n",
    "    \n",
    "    def check_promotion_dollars_fast(self, dollars) : \n",
    "        if dollars in self.prices : \n",
    "            return True\n",
    "        for price in self.prices :\n",
    "            left_dollars = dollars - price\n",
    "            if left_dollars in self.prices : \n",
    "                return True\n",
    "        return False "
   ]
  },
  {
   "cell_type": "code",
   "execution_count": 14,
   "metadata": {},
   "outputs": [
    {
     "name": "stdout",
     "output_type": "stream",
     "text": [
      "Can I buy a laptop with 1000 dollars? : True\n",
      "Can I buy a laptop with 1000 dollars? : False\n"
     ]
    }
   ],
   "source": [
    "inventory = Inventory('laptops.csv')\n",
    "print(f\"Can I buy a laptop with 1000 dollars? : {inventory.check_promotion_dollars_fast(1000)}\")\n",
    "print(f\"Can I buy a laptop with 1000 dollars? : {inventory.check_promotion_dollars_fast(442)}\")"
   ]
  },
  {
   "cell_type": "markdown",
   "metadata": {},
   "source": [
    "## Measure of time excution between two algorithms"
   ]
  },
  {
   "cell_type": "code",
   "execution_count": 15,
   "metadata": {},
   "outputs": [],
   "source": [
    "import time\n",
    "import random \n",
    "\n",
    "prices = [random.randint(100, 5000) for _ in range(100)]\n",
    "\n",
    "class Inventory() : \n",
    "    \n",
    "    def __init__(self, csv_filename) : \n",
    "        with open(csv_filename, encoding = \"UTF-8\") as file : \n",
    "            file = list(csv.reader(file))\n",
    "            header = file[0]\n",
    "            rows = file[1:]\n",
    "            \n",
    "        self.header = header\n",
    "        self.rows = rows \n",
    "        for row in self.rows : \n",
    "            row[-1] = int(row[-1])\n",
    "            \n",
    "        self.id_to_row = {}\n",
    "        for row in self.rows : \n",
    "            row_id = row[0]\n",
    "            row_value = row[1:]\n",
    "            self.id_to_row[row_id] = row_value\n",
    "            \n",
    "        self.prices = set()\n",
    "        for row in self.rows :\n",
    "            price = row[-1]\n",
    "            self.prices.add(price)\n",
    "            \n",
    "    def get_laptop_from_id(self, laptop_id) : \n",
    "        for row in self.rows : \n",
    "            if laptop_id in row : \n",
    "                return row \n",
    "        return None\n",
    "            \n",
    "    def get_laptop_from_id_fast(self, laptop_id) : \n",
    "        if laptop_id in self.id_to_row : \n",
    "            return self.id_to_row[laptop_id]\n",
    "        return None  \n",
    "    \n",
    "    def check_promotion_dollars(self, dollars) : \n",
    "        for row in self.rows : \n",
    "            if dollars == row[-1] : \n",
    "                return True \n",
    "        for row1 in self.rows : \n",
    "            for row2 in self.rows : \n",
    "                if row1[-1] + row2[-1] == dollars :\n",
    "                    return True \n",
    "        return False \n",
    "    \n",
    "    def check_promotion_dollars_fast(self, dollars) : \n",
    "        if dollars in self.prices : \n",
    "            return True\n",
    "        for price in self.prices :\n",
    "            left_dollars = dollars - price\n",
    "            if left_dollars in self.prices : \n",
    "                return True\n",
    "        return False "
   ]
  },
  {
   "cell_type": "code",
   "execution_count": 16,
   "metadata": {},
   "outputs": [],
   "source": [
    "inventory = Inventory(\"laptops.csv\")\n",
    "total_time_no_set = 0    # This variable will aggregate the times of calling get_laptop_from_id()\n",
    "\n",
    "for price in prices : \n",
    "    start = time.time()\n",
    "    inventory.check_promotion_dollars(price)\n",
    "    end = time.time()\n",
    "    total_time_no_set += end-start \n",
    "    \n",
    "total_time_set = 0    # This variable will aggregate the times of calling get_laptop_from_id_fast()\n",
    "\n",
    "for price in prices : \n",
    "    start = time.time()\n",
    "    inventory.check_promotion_dollars_fast(price)\n",
    "    end = time.time()\n",
    "    total_time_set += end-start"
   ]
  },
  {
   "cell_type": "code",
   "execution_count": 17,
   "metadata": {},
   "outputs": [
    {
     "name": "stdout",
     "output_type": "stream",
     "text": [
      "Total time of check_promotion_dollars() : 1.9592435359954834\n",
      "Total time of check_promotion_dollars_fast() : 0.0008885860443115234\n"
     ]
    }
   ],
   "source": [
    "print(f\"Total time of check_promotion_dollars() : {total_time_no_set}\")\n",
    "print(f\"Total time of check_promotion_dollars_fast() : {total_time_set}\")"
   ]
  },
  {
   "cell_type": "markdown",
   "metadata": {},
   "source": [
    "Excution time of check_promotion_dollars_fast is faster than check_promotion_dollars about 10,000 times."
   ]
  },
  {
   "cell_type": "markdown",
   "metadata": {},
   "source": [
    "## Finding Laptops within Budgets"
   ]
  },
  {
   "cell_type": "markdown",
   "metadata": {},
   "source": [
    "We want to write a method that efficiently answers the query : Given a budget of D dollars, find all laptops whose price it at most D. "
   ]
  },
  {
   "cell_type": "code",
   "execution_count": 18,
   "metadata": {},
   "outputs": [],
   "source": [
    "def row_price(row):\n",
    "    return row[-1]\n",
    "\n",
    "class Inventory() : \n",
    "    \n",
    "    def __init__(self, csv_filename) : \n",
    "        with open(csv_filename, encoding = \"UTF-8\") as file : \n",
    "            file = list(csv.reader(file))\n",
    "            header = file[0]\n",
    "            rows = file[1:]\n",
    "            \n",
    "        self.header = header\n",
    "        self.rows = rows \n",
    "        for row in self.rows : \n",
    "            row[-1] = int(row[-1])\n",
    "            \n",
    "        self.id_to_row = {}\n",
    "        for row in self.rows : \n",
    "            row_id = row[0]\n",
    "            row_value = row[1:]\n",
    "            self.id_to_row[row_id] = row_value\n",
    "            \n",
    "        self.prices = set()\n",
    "        for row in self.rows :\n",
    "            price = row[-1]\n",
    "            self.prices.add(price)\n",
    "            \n",
    "        self.rows_by_price = sorted(self.rows, key = row_price)\n",
    "            \n",
    "    def get_laptop_from_id(self, laptop_id) : \n",
    "        for row in self.rows : \n",
    "            if laptop_id in row : \n",
    "                return row \n",
    "        return None\n",
    "            \n",
    "    def get_laptop_from_id_fast(self, laptop_id) : \n",
    "        if laptop_id in self.id_to_row : \n",
    "            return self.id_to_row[laptop_id]\n",
    "        return None  \n",
    "    \n",
    "    def check_promotion_dollars(self, dollars) : \n",
    "        for row in self.rows : \n",
    "            if dollars == row[-1] : \n",
    "                return True \n",
    "        for row1 in self.rows : \n",
    "            for row2 in self.rows : \n",
    "                if row1[-1] + row2[-1] == dollars :\n",
    "                    return True \n",
    "        return False \n",
    "    \n",
    "    def check_promotion_dollars_fast(self, dollars) : \n",
    "        if dollars in self.prices : \n",
    "            return True\n",
    "        for price in self.prices :\n",
    "            left_dollars = dollars - price\n",
    "            if left_dollars in self.prices : \n",
    "                return True\n",
    "        return False \n",
    "    \n",
    "    def find_laptop_with_price(self, target_price):\n",
    "        range_start = 0                                   \n",
    "        range_end = len(self.rows_by_price) - 1                       \n",
    "        while range_start < range_end:\n",
    "            range_middle = (range_end + range_start) // 2  \n",
    "            price = self.rows_by_price[range_middle][-1]\n",
    "            if price == target_price:                            \n",
    "                return range_middle                        \n",
    "            elif price < target_price:                           \n",
    "                range_start = range_middle + 1             \n",
    "            else:                                          \n",
    "                range_end = range_middle - 1 \n",
    "        price = self.rows_by_price[range_start][-1]\n",
    "        if price != target_price:                  \n",
    "            return -1                                      \n",
    "        return range_start\n",
    "    \n",
    "    def find_first_laptop_more_expensive(self, target_price) : \n",
    "        range_start = 0\n",
    "        range_end = len(self.rows_by_price) - 1\n",
    "        while range_start < range_end : \n",
    "            range_middle = (range_end + range_start) // 2\n",
    "            price = self.rows_by_price[range_middle][-1]    # Check price of the middle range of rows_by price\n",
    "            if price > target_price : \n",
    "                range_end = range_middle\n",
    "            else : \n",
    "                range_start = range_middle + 1\n",
    "        price = self.rows_by_price[range_start][-1]\n",
    "        if price <= target_price : \n",
    "            return -1 \n",
    "        return range_start "
   ]
  },
  {
   "cell_type": "code",
   "execution_count": 19,
   "metadata": {},
   "outputs": [
    {
     "name": "stdout",
     "output_type": "stream",
     "text": [
      "683\n",
      "-1\n"
     ]
    }
   ],
   "source": [
    "inventory = Inventory('laptops.csv')\n",
    "print(inventory.find_first_laptop_more_expensive(1000))\n",
    "print(inventory.find_first_laptop_more_expensive(10000))"
   ]
  },
  {
   "cell_type": "markdown",
   "metadata": {},
   "source": [
    "We can buy 682 laptops with 1,000 dollars budget and can buy all laptops with 10,000 dollars."
   ]
  },
  {
   "cell_type": "markdown",
   "metadata": {},
   "source": [
    "## Finding Laptops within Budgets range"
   ]
  },
  {
   "cell_type": "code",
   "execution_count": 51,
   "metadata": {},
   "outputs": [],
   "source": [
    "def row_price(row):\n",
    "    return row[-1]\n",
    "\n",
    "class Inventory() : \n",
    "    \n",
    "    def __init__(self, csv_filename) : \n",
    "        with open(csv_filename, encoding = \"UTF-8\") as file : \n",
    "            file = list(csv.reader(file))\n",
    "            header = file[0]\n",
    "            rows = file[1:]\n",
    "            \n",
    "        self.header = header\n",
    "        self.rows = rows \n",
    "        for row in self.rows : \n",
    "            row[-1] = int(row[-1])\n",
    "            \n",
    "        self.id_to_row = {}\n",
    "        for row in self.rows : \n",
    "            row_id = row[0]\n",
    "            row_value = row[1:]\n",
    "            self.id_to_row[row_id] = row_value\n",
    "            \n",
    "        self.prices = set()\n",
    "        for row in self.rows :\n",
    "            price = row[-1]\n",
    "            self.prices.add(price)\n",
    "            \n",
    "        self.rows_by_price = sorted(self.rows, key = row_price)\n",
    "            \n",
    "    def get_laptop_from_id(self, laptop_id) : \n",
    "        for row in self.rows : \n",
    "            if laptop_id in row : \n",
    "                return row \n",
    "        return None\n",
    "            \n",
    "    def get_laptop_from_id_fast(self, laptop_id) : \n",
    "        if laptop_id in self.id_to_row : \n",
    "            return self.id_to_row[laptop_id]\n",
    "        return None  \n",
    "    \n",
    "    def check_promotion_dollars(self, dollars) : \n",
    "        for row in self.rows : \n",
    "            if dollars == row[-1] : \n",
    "                return True \n",
    "        for row1 in self.rows : \n",
    "            for row2 in self.rows : \n",
    "                if row1[-1] + row2[-1] == dollars :\n",
    "                    return True \n",
    "        return False \n",
    "    \n",
    "    def check_promotion_dollars_fast(self, dollars) : \n",
    "        if dollars in self.prices : \n",
    "            return True\n",
    "        for price in self.prices :\n",
    "            left_dollars = dollars - price\n",
    "            if left_dollars in self.prices : \n",
    "                return True\n",
    "        return False \n",
    "    \n",
    "    def find_laptop_with_price(self, target_price):\n",
    "        range_start = 0                                   \n",
    "        range_end = len(self.rows_by_price) - 1                       \n",
    "        while range_start < range_end:\n",
    "            range_middle = (range_end + range_start) // 2  \n",
    "            price = self.rows_by_price[range_middle][-1]\n",
    "            if price == target_price:                            \n",
    "                return range_middle                        \n",
    "            elif price < target_price:                           \n",
    "                range_start = range_middle + 1             \n",
    "            else:                                          \n",
    "                range_end = range_middle - 1 \n",
    "        price = self.rows_by_price[range_start][-1]\n",
    "        if price != target_price:                  \n",
    "            return -1                                      \n",
    "        return range_start\n",
    "    \n",
    "    def find_first_laptop_more_expensive(self, target_price) : \n",
    "        range_start = 0\n",
    "        range_end = len(self.rows_by_price) - 1\n",
    "        while range_start < range_end : \n",
    "            range_middle = (range_end + range_start) // 2\n",
    "            price = self.rows_by_price[range_middle][-1]    # Check price of the middle range of rows_by price\n",
    "            if price > target_price : \n",
    "                range_end = range_middle\n",
    "            else : \n",
    "                range_start = range_middle + 1\n",
    "        price = self.rows_by_price[range_start][-1]\n",
    "        if price <= target_price : \n",
    "            return -1 \n",
    "        return range_start \n",
    "    \n",
    "    def find_last_laptop_less_expensive(self, target_price) : \n",
    "        range_start = 0\n",
    "        range_end = len(self.rows_by_price) - 1\n",
    "        while range_start < range_end : \n",
    "            range_middle = (range_end + range_start) // 2\n",
    "            price = self.rows_by_price[range_middle][-1]\n",
    "            if price < target_price :\n",
    "                range_start = range_middle + 1\n",
    "            else : \n",
    "                range_end = range_middle\n",
    "        price = self.rows_by_price[range_start][-1]\n",
    "        if price > target_price : \n",
    "            return len(self.row_by_price)\n",
    "        return range_start\n",
    "    \n",
    "    def find_laptops_between_range(self, min_price, max_price) : \n",
    "        max_index = self.find_last_laptop_less_expensive(max_price) \n",
    "        min_index = self.find_first_laptop_more_expensive(min_price) \n",
    "        return max_index - min_index + 1"
   ]
  },
  {
   "cell_type": "code",
   "execution_count": 52,
   "metadata": {},
   "outputs": [
    {
     "name": "stdout",
     "output_type": "stream",
     "text": [
      "683\n",
      "682\n"
     ]
    }
   ],
   "source": [
    "# Test working for find_last_laptop_less_expensive\n",
    "\n",
    "inventory = Inventory('laptops.csv')\n",
    "print(inventory.find_first_laptop_more_expensive(1000))\n",
    "print(inventory.find_last_laptop_less_expensive(1000))"
   ]
  },
  {
   "cell_type": "code",
   "execution_count": 53,
   "metadata": {},
   "outputs": [
    {
     "name": "stdout",
     "output_type": "stream",
     "text": [
      "620\n"
     ]
    }
   ],
   "source": [
    "inventory = Inventory('laptops.csv')\n",
    "print(inventory.find_laptops_between_range(1000, 10000))"
   ]
  },
  {
   "cell_type": "markdown",
   "metadata": {},
   "source": [
    "Available laptops between 1,000 dollars and 10,000 dollars are 620."
   ]
  }
 ],
 "metadata": {
  "kernelspec": {
   "display_name": "Python 3",
   "language": "python",
   "name": "python3"
  },
  "language_info": {
   "codemirror_mode": {
    "name": "ipython",
    "version": 3
   },
   "file_extension": ".py",
   "mimetype": "text/x-python",
   "name": "python",
   "nbconvert_exporter": "python",
   "pygments_lexer": "ipython3",
   "version": "3.8.8"
  },
  "toc": {
   "base_numbering": 1,
   "nav_menu": {},
   "number_sections": true,
   "sideBar": true,
   "skip_h1_title": false,
   "title_cell": "Table of Contents",
   "title_sidebar": "Contents",
   "toc_cell": false,
   "toc_position": {},
   "toc_section_display": true,
   "toc_window_display": false
  },
  "varInspector": {
   "cols": {
    "lenName": 16,
    "lenType": 16,
    "lenVar": 40
   },
   "kernels_config": {
    "python": {
     "delete_cmd_postfix": "",
     "delete_cmd_prefix": "del ",
     "library": "var_list.py",
     "varRefreshCmd": "print(var_dic_list())"
    },
    "r": {
     "delete_cmd_postfix": ") ",
     "delete_cmd_prefix": "rm(",
     "library": "var_list.r",
     "varRefreshCmd": "cat(var_dic_list()) "
    }
   },
   "types_to_exclude": [
    "module",
    "function",
    "builtin_function_or_method",
    "instance",
    "_Feature"
   ],
   "window_display": false
  }
 },
 "nbformat": 4,
 "nbformat_minor": 2
}
