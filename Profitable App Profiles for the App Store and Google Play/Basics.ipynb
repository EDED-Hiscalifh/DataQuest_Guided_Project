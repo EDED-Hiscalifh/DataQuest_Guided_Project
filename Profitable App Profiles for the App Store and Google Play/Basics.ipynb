{
 "cells": [
  {
   "cell_type": "markdown",
   "metadata": {},
   "source": [
    "# Profitable App Profiles for the App Store and Google Play Markets"
   ]
  },
  {
   "cell_type": "markdown",
   "metadata": {},
   "source": [
    "We only build apps that are free to download and install, and our main source of revenue consists of in-app ads. This means that the number of users of our apps determines our revenue for any given app — the more users who see and engage with the ads, the better. Our goal for this project is to analyze data to help our developers understand what type of apps are likely to attract more users."
   ]
  },
  {
   "cell_type": "markdown",
   "metadata": {},
   "source": [
    "## Opening and Exploring datasets"
   ]
  },
  {
   "cell_type": "markdown",
   "metadata": {},
   "source": [
    "- [A dataset](https://www.kaggle.com/lava18/google-play-store-apps) containing data about approximately 10,000 Android apps from Google Play; the data was collected in August 2018. You can download the dataset directly from this link.\n",
    "- [A dataset](https://www.kaggle.com/ramamet4/app-store-apple-data-set-10k-apps) containing data about approximately 7,000 iOS apps from the App Store; the data was collected in July 2017. You can download the dataset directly from this link."
   ]
  },
  {
   "cell_type": "markdown",
   "metadata": {},
   "source": [
    "First of all, let's open files 'AppleStore.csv' and 'googleplaystore.csv'."
   ]
  },
  {
   "cell_type": "code",
   "execution_count": 1,
   "metadata": {},
   "outputs": [],
   "source": [
    "from csv import reader \n",
    "\n",
    "def open_dataset(file_name, header = True) :\n",
    "    '''\n",
    "    This function returns dataset and header of file.\n",
    "    We can divide header of file by using header = True. \n",
    "    '''\n",
    "    opened_file = open(file_name)\n",
    "    read_file = reader(opened_file)\n",
    "    data = list(read_file)\n",
    "    \n",
    "    if header :\n",
    "        return data[1:], data[0]\n",
    "    else : \n",
    "        return data"
   ]
  },
  {
   "cell_type": "code",
   "execution_count": 2,
   "metadata": {},
   "outputs": [],
   "source": [
    "# Extract header and data from files \n",
    "\n",
    "apple_apps, apple_header = open_dataset('AppleStore.csv')\n",
    "android_apps, android_header = open_dataset('googleplaystore.csv')"
   ]
  },
  {
   "cell_type": "code",
   "execution_count": 3,
   "metadata": {},
   "outputs": [],
   "source": [
    "def explore_data(dataset, start, end, rows_and_columns=False):\n",
    "    dataset_slice = dataset[start:end]    \n",
    "    for row in dataset_slice:\n",
    "        print(row)\n",
    "        print('\\n') # adds a new (empty) line after each row\n",
    "\n",
    "    if rows_and_columns:\n",
    "        print('Number of rows:', len(dataset))\n",
    "        print('Number of columns:', len(dataset[0]))"
   ]
  },
  {
   "cell_type": "code",
   "execution_count": 4,
   "metadata": {},
   "outputs": [
    {
     "name": "stdout",
     "output_type": "stream",
     "text": [
      "Header of AppleStore : ['id', 'track_name', 'size_bytes', 'currency', 'price', 'rating_count_tot', 'rating_count_ver', 'user_rating', 'user_rating_ver', 'ver', 'cont_rating', 'prime_genre', 'sup_devices.num', 'ipadSc_urls.num', 'lang.num', 'vpp_lic']\n",
      "\n",
      "['284882215', 'Facebook', '389879808', 'USD', '0.0', '2974676', '212', '3.5', '3.5', '95.0', '4+', 'Social Networking', '37', '1', '29', '1']\n",
      "\n",
      "\n",
      "['389801252', 'Instagram', '113954816', 'USD', '0.0', '2161558', '1289', '4.5', '4.0', '10.23', '12+', 'Photo & Video', '37', '0', '29', '1']\n",
      "\n",
      "\n",
      "['529479190', 'Clash of Clans', '116476928', 'USD', '0.0', '2130805', '579', '4.5', '4.5', '9.24.12', '9+', 'Games', '38', '5', '18', '1']\n",
      "\n",
      "\n",
      "Number of rows: 7197\n",
      "Number of columns: 16\n",
      "None\n"
     ]
    }
   ],
   "source": [
    "# Explore 'AppleStore.csv'\n",
    "\n",
    "print(f'Header of AppleStore : {apple_header}\\n')\n",
    "print(explore_data(apple_apps, 0, 3, rows_and_columns = True))"
   ]
  },
  {
   "cell_type": "markdown",
   "metadata": {},
   "source": [
    "Apple store dataset have 7197 rows and 16 columns. We can use 'track_name', 'price', 'user_rating', 'prime_genre' for analysis. "
   ]
  },
  {
   "cell_type": "code",
   "execution_count": 5,
   "metadata": {},
   "outputs": [
    {
     "name": "stdout",
     "output_type": "stream",
     "text": [
      "Header of googleplay : ['App', 'Category', 'Rating', 'Reviews', 'Size', 'Installs', 'Type', 'Price', 'Content Rating', 'Genres', 'Last Updated', 'Current Ver', 'Android Ver']\n",
      "\n",
      "['Photo Editor & Candy Camera & Grid & ScrapBook', 'ART_AND_DESIGN', '4.1', '159', '19M', '10,000+', 'Free', '0', 'Everyone', 'Art & Design', 'January 7, 2018', '1.0.0', '4.0.3 and up']\n",
      "\n",
      "\n",
      "['Coloring book moana', 'ART_AND_DESIGN', '3.9', '967', '14M', '500,000+', 'Free', '0', 'Everyone', 'Art & Design;Pretend Play', 'January 15, 2018', '2.0.0', '4.0.3 and up']\n",
      "\n",
      "\n",
      "['U Launcher Lite – FREE Live Cool Themes, Hide Apps', 'ART_AND_DESIGN', '4.7', '87510', '8.7M', '5,000,000+', 'Free', '0', 'Everyone', 'Art & Design', 'August 1, 2018', '1.2.4', '4.0.3 and up']\n",
      "\n",
      "\n",
      "Number of rows: 10841\n",
      "Number of columns: 13\n",
      "None\n"
     ]
    }
   ],
   "source": [
    "# Explore 'googleplaystore.csv'\n",
    "\n",
    "print(f'Header of googleplay : {android_header}\\n')\n",
    "print(explore_data(android_apps, 0, 3, rows_and_columns = True))"
   ]
  },
  {
   "cell_type": "markdown",
   "metadata": {},
   "source": [
    "In Googleplay store, dataset have 10841 rows and 13 columns. We can use 'App', 'Category', Rating', 'Price', 'Genres' for analysis."
   ]
  },
  {
   "cell_type": "markdown",
   "metadata": {},
   "source": [
    "## Detecting wrong data"
   ]
  },
  {
   "cell_type": "markdown",
   "metadata": {},
   "source": [
    "We only build apps that are free to download and install, and we design them for an English-speaking audience.\n",
    "\n",
    "There is one of the discussions describes an error for a certain row, 10472. It saids \"Wrong Entry for 10472 row if Header is not included. Header: - ['App', 'Category', 'Rating', 'Reviews', 'Size', 'Installs', 'Type', 'Price', 'Content Rating', 'Genres', 'Last Updated', 'Current Ver', 'Android Ver']\n",
    "Row: - ['Life Made WI-Fi Touchscreen Photo Frame', '1.9', '19', '3.0M', '1,000+', 'Free', '0', 'Everyone', '', 'February 11, 2018', '1.0.19', '4.0 and up']\n",
    "Category is not present and hence column shift has happened in this row."
   ]
  },
  {
   "cell_type": "code",
   "execution_count": 6,
   "metadata": {},
   "outputs": [
    {
     "name": "stdout",
     "output_type": "stream",
     "text": [
      "['Life Made WI-Fi Touchscreen Photo Frame', '1.9', '19', '3.0M', '1,000+', 'Free', '0', 'Everyone', '', 'February 11, 2018', '1.0.19', '4.0 and up']\n"
     ]
    }
   ],
   "source": [
    "print(android_apps[10472]) \n",
    "del android_apps[10472]"
   ]
  },
  {
   "cell_type": "code",
   "execution_count": 7,
   "metadata": {},
   "outputs": [
    {
     "name": "stdout",
     "output_type": "stream",
     "text": [
      "['osmino Wi-Fi: free WiFi', 'TOOLS', '4.2', '134203', '4.1M', '10,000,000+', 'Free', '0', 'Everyone', 'Tools', 'August 7, 2018', '6.06.14', '4.4 and up']\n"
     ]
    }
   ],
   "source": [
    "print(android_apps[10472])"
   ]
  },
  {
   "cell_type": "markdown",
   "metadata": {},
   "source": [
    "## Dropping duplicate data"
   ]
  },
  {
   "cell_type": "markdown",
   "metadata": {},
   "source": [
    "If we explore the Google Play data set long enough or look at discussions section, we can notice some apps have duplicated entries. "
   ]
  },
  {
   "cell_type": "code",
   "execution_count": 8,
   "metadata": {},
   "outputs": [
    {
     "name": "stdout",
     "output_type": "stream",
     "text": [
      "['Instagram', 'SOCIAL', '4.5', '66577313', 'Varies with device', '1,000,000,000+', 'Free', '0', 'Teen', 'Social', 'July 31, 2018', 'Varies with device', 'Varies with device']\n",
      "['Instagram', 'SOCIAL', '4.5', '66577446', 'Varies with device', '1,000,000,000+', 'Free', '0', 'Teen', 'Social', 'July 31, 2018', 'Varies with device', 'Varies with device']\n",
      "['Instagram', 'SOCIAL', '4.5', '66577313', 'Varies with device', '1,000,000,000+', 'Free', '0', 'Teen', 'Social', 'July 31, 2018', 'Varies with device', 'Varies with device']\n",
      "['Instagram', 'SOCIAL', '4.5', '66509917', 'Varies with device', '1,000,000,000+', 'Free', '0', 'Teen', 'Social', 'July 31, 2018', 'Varies with device', 'Varies with device']\n"
     ]
    }
   ],
   "source": [
    "for app in android_apps : \n",
    "    name = app[0]\n",
    "    if name == 'Instagram' : \n",
    "        print(app)"
   ]
  },
  {
   "cell_type": "code",
   "execution_count": 9,
   "metadata": {},
   "outputs": [
    {
     "name": "stdout",
     "output_type": "stream",
     "text": [
      "Number of duplicate apps : 1181\n",
      "\n",
      "\n",
      "Examples of duplicate apps : ['Quick PDF Scanner + OCR FREE', 'Box', 'Google My Business', 'ZOOM Cloud Meetings', 'join.me - Simple Meetings', 'Box', 'Zenefits', 'Google Ads', 'Google My Business', 'Slack']\n"
     ]
    }
   ],
   "source": [
    "duplicate_apps = []\n",
    "unique_apps = []\n",
    "\n",
    "for app in android_apps : \n",
    "    name = app[0]\n",
    "    \n",
    "    if name in unique_apps :\n",
    "        duplicate_apps.append(name)\n",
    "    else : \n",
    "        unique_apps.append(name) \n",
    "        \n",
    "print(f'Number of duplicate apps : {len(duplicate_apps)}')\n",
    "print('\\n')\n",
    "print(f'Examples of duplicate apps : {duplicate_apps[:10]}')"
   ]
  },
  {
   "cell_type": "markdown",
   "metadata": {},
   "source": [
    "In total, there are 1,181 cases when an app occurs more than one."
   ]
  },
  {
   "cell_type": "markdown",
   "metadata": {},
   "source": [
    "We don't want to count certain apps more than once, so we need to drop the duplicate data. In duplicate dataset apps' name is 'Instagram', there are only difference in reviews. By making certain criterion, we can drop duplicate value more easily. "
   ]
  },
  {
   "cell_type": "code",
   "execution_count": 10,
   "metadata": {},
   "outputs": [
    {
     "name": "stdout",
     "output_type": "stream",
     "text": [
      "Total length : 10840\n",
      "Expected length : 9659\n"
     ]
    }
   ],
   "source": [
    "# Length of rows before remove duplicates\n",
    "\n",
    "print(f'Total length : {len(android_apps)}')\n",
    "\n",
    "# Length of rows after romove duplicates\n",
    "\n",
    "print(f'Expected length : {len(android_apps) - len(duplicate_apps)}')"
   ]
  },
  {
   "cell_type": "markdown",
   "metadata": {},
   "source": [
    "To remove the duplicates, we will do the following : \n",
    "\n",
    "- Create a dictionary, where each dictionary key is a unique app name and the corresponding dictionary value is the highest number of reviews of that app\n",
    "- Use the information stored in the dictionary and create a new dataset, which will have only one entry per app (and for each app, we'll only select the entry with the highest number of reviews) "
   ]
  },
  {
   "cell_type": "markdown",
   "metadata": {},
   "source": [
    "1. Create a dictionary where each key is a unique app name and the corresponding dictionary value is the highest number of reviews of that app.\n",
    "\n",
    "- Start by creating an empty dictionary named reviews_max.\n",
    "- Loop through the Google Play data set (don't include the header row). For each iteration, do the following:\n",
    "    - Assign the app name to a variable named name.\n",
    "    - Convert the number of reviews to float. Assign it to a variable named n_reviews.\n",
    "    - If name already exists as a key in the reviews_max dictionary and reviews_max[name] < n_reviews, update the number of reviews for that entry in the reviews_max dictionary.\n",
    "    - If name is not in the reviews_max dictionary as a key, create a new entry in the dictionary where the key is the app name, and the value is the number of reviews. Make sure you don't use an else clause here, or the number of reviews will be incorrectly updated whenever reviews_max[name] < n_reviews evaluates to False.\n",
    "- Inspect the dictionary to make sure everything went as expected. Measure the length of the dictionary — remember that the expected length is 9,659 entries.\n",
    "\n"
   ]
  },
  {
   "cell_type": "code",
   "execution_count": 11,
   "metadata": {
    "scrolled": false
   },
   "outputs": [
    {
     "name": "stdout",
     "output_type": "stream",
     "text": [
      "66577446.0\n",
      "\n",
      "\n",
      "Length of reviews_max is 9659.\n"
     ]
    }
   ],
   "source": [
    "# Create a dictionary \n",
    "\n",
    "reviews_max = {}\n",
    "\n",
    "for app in android_apps : \n",
    "    name = app[0]\n",
    "    n_reviews = float(app[3])\n",
    "    \n",
    "    if (name in reviews_max) and (reviews_max[name] < n_reviews) :\n",
    "        reviews_max[name] = n_reviews\n",
    "    elif (name not in reviews_max) :\n",
    "        reviews_max[name] = n_reviews \n",
    "        \n",
    "print(reviews_max['Instagram'])\n",
    "print('\\n')\n",
    "print(f'Length of reviews_max is {len(reviews_max)}.')"
   ]
  },
  {
   "cell_type": "markdown",
   "metadata": {},
   "source": [
    "2. Use the dictionary you created above to remove the duplicate rows:\n",
    "\n",
    "- Start by creating two empty lists: android_clean (which will store our new cleaned data set) and already_added (which will just store app names).\n",
    "- Loop through the Google Play dataset (don't include the header row), and for each iteration, do the following:\n",
    "    - Assign the app name to a variable named name.\n",
    "    - Convert the number of reviews to float, and assign it to a variable named n_reviews.\n",
    "- If n_reviews is the same as the number of maximum reviews of the app name (the number can be found in the reviews_max dictionary) and name is not already in the list already_added (read the solution notebook to find out why we need this supplementary condition):\n",
    "    - Append the entire row to the android_clean list (which will eventually be a list of lists and store our cleaned dataset).\n",
    "    - Append the name of the app name to the already_added list — this helps us to keep track of apps that we already added.\n",
    "\n"
   ]
  },
  {
   "cell_type": "code",
   "execution_count": 12,
   "metadata": {},
   "outputs": [
    {
     "name": "stdout",
     "output_type": "stream",
     "text": [
      "Processed length : 9659\n"
     ]
    }
   ],
   "source": [
    "# Make new dataset removing duplicates \n",
    "\n",
    "android_clean = []    # store our new cleaned dataset\n",
    "already_added = []    # store app names \n",
    "\n",
    "for app in android_apps : \n",
    "    name = app[0]\n",
    "    n_reviews = float(app[3])\n",
    "    \n",
    "    if (n_reviews == reviews_max[name]) and (name not in already_added) : \n",
    "        android_clean.append(app)\n",
    "        already_added.append(name)\n",
    "    \n",
    "print(f'Processed length : {len(android_clean)}')"
   ]
  },
  {
   "cell_type": "markdown",
   "metadata": {},
   "source": [
    "android_clena dataset have 9,659 rows same as expected rows. "
   ]
  },
  {
   "cell_type": "markdown",
   "metadata": {},
   "source": [
    "## Deleting Non English apps"
   ]
  },
  {
   "cell_type": "markdown",
   "metadata": {},
   "source": [
    "If we explore the data long enough, we'll find theat both datasets have apps with names that suggest they are not designed for an English-speaking audience. \n",
    "\n",
    "We will use ASCII system to remove non-English apps using the number corresponding to the characters we commonly use in an English text are all in the range 0 to 127. Based on this number range, we can build a function that detects wheter a character belongs to the set of common English character or not."
   ]
  },
  {
   "cell_type": "markdown",
   "metadata": {},
   "source": [
    "1. Write a function that takes in a string and returns False if there's any character in the string that doesn't belong to the set of common English characters; otherwise, the function returns True.\n",
    "\n",
    "- Inside the function, iterate over the input string. For each iteration check whether the number associated with the character is greater than 127. When a character is greater than 127, the function should immediately return False — the app name is probably non-English since it contains a character that doesn't belong to the set of common English characters.\n",
    "- If the loop finishes running without the return statement executing, then it means no character had a corresponding number over 127 — the app name is probably English, so the functions should return True.\n",
    "\n"
   ]
  },
  {
   "cell_type": "code",
   "execution_count": 13,
   "metadata": {},
   "outputs": [
    {
     "name": "stdout",
     "output_type": "stream",
     "text": [
      "True\n",
      "False\n",
      "False\n",
      "False\n"
     ]
    }
   ],
   "source": [
    "def english_detector(string) :\n",
    "    \n",
    "    for character in string : \n",
    "        if ord(character) > 127 : \n",
    "            return False\n",
    "    return True\n",
    "    \n",
    "print(english_detector('Instagram'))\n",
    "print(english_detector('爱奇艺PPS -《欢乐颂2》电视剧热播'))\n",
    "print(english_detector('Docs To Go™ Free Office Suite'))\n",
    "print(english_detector('Instachat 😜'))"
   ]
  },
  {
   "cell_type": "markdown",
   "metadata": {},
   "source": [
    "But we saw that the function couldn't correctly identify certain English app names like 'Docs To Go™ Free Office Suite' and 'Instachat 😜'. \n",
    "\n",
    "To minimize the impact of data loss, we'll only remove an app if its name has more than three characters with corresponding numbers falling outside the ASCII range. "
   ]
  },
  {
   "cell_type": "code",
   "execution_count": 14,
   "metadata": {},
   "outputs": [
    {
     "name": "stdout",
     "output_type": "stream",
     "text": [
      "True\n",
      "False\n",
      "True\n",
      "True\n"
     ]
    }
   ],
   "source": [
    "def english_detector(string) :\n",
    "    count_over = 0\n",
    "    \n",
    "    for character in string : \n",
    "        if ord(character) > 127 : \n",
    "            count_over += 1\n",
    "            \n",
    "    if count_over > 3 :\n",
    "        return False \n",
    "    return True \n",
    "\n",
    "print(english_detector('Instagram'))\n",
    "print(english_detector('爱奇艺PPS -《欢乐颂2》电视剧热播'))\n",
    "print(english_detector('Docs To Go™ Free Office Suite'))\n",
    "print(english_detector('Instachat 😜'))"
   ]
  },
  {
   "cell_type": "markdown",
   "metadata": {},
   "source": [
    "We can see function works pretty well. "
   ]
  },
  {
   "cell_type": "code",
   "execution_count": 15,
   "metadata": {},
   "outputs": [
    {
     "name": "stdout",
     "output_type": "stream",
     "text": [
      "Before length : (9659, 7197)\n",
      "After length : (9614, 6183)\n"
     ]
    }
   ],
   "source": [
    "print(f'Before length : {len(android_clean), len(apple_apps)}')\n",
    "\n",
    "android_english = []\n",
    "apple_english = []\n",
    "\n",
    "for app in android_clean : \n",
    "    name = app[0]\n",
    "    \n",
    "    if english_detector(name) : \n",
    "        android_english.append(app)\n",
    "    \n",
    "for app in apple_apps : \n",
    "    name = app[1]\n",
    "    \n",
    "    if english_detector(name) : \n",
    "        apple_english.append(app)\n",
    "        \n",
    "print(f'After length : {len(android_english), len(apple_english)}')"
   ]
  },
  {
   "cell_type": "code",
   "execution_count": 16,
   "metadata": {},
   "outputs": [
    {
     "name": "stdout",
     "output_type": "stream",
     "text": [
      "['Photo Editor & Candy Camera & Grid & ScrapBook', 'ART_AND_DESIGN', '4.1', '159', '19M', '10,000+', 'Free', '0', 'Everyone', 'Art & Design', 'January 7, 2018', '1.0.0', '4.0.3 and up']\n",
      "\n",
      "\n",
      "['U Launcher Lite – FREE Live Cool Themes, Hide Apps', 'ART_AND_DESIGN', '4.7', '87510', '8.7M', '5,000,000+', 'Free', '0', 'Everyone', 'Art & Design', 'August 1, 2018', '1.2.4', '4.0.3 and up']\n",
      "\n",
      "\n",
      "['Sketch - Draw & Paint', 'ART_AND_DESIGN', '4.5', '215644', '25M', '50,000,000+', 'Free', '0', 'Teen', 'Art & Design', 'June 8, 2018', 'Varies with device', '4.2 and up']\n",
      "\n",
      "\n",
      "Number of rows: 9614\n",
      "Number of columns: 13\n",
      "None\n",
      "\n",
      "\n",
      "['284882215', 'Facebook', '389879808', 'USD', '0.0', '2974676', '212', '3.5', '3.5', '95.0', '4+', 'Social Networking', '37', '1', '29', '1']\n",
      "\n",
      "\n",
      "['389801252', 'Instagram', '113954816', 'USD', '0.0', '2161558', '1289', '4.5', '4.0', '10.23', '12+', 'Photo & Video', '37', '0', '29', '1']\n",
      "\n",
      "\n",
      "['529479190', 'Clash of Clans', '116476928', 'USD', '0.0', '2130805', '579', '4.5', '4.5', '9.24.12', '9+', 'Games', '38', '5', '18', '1']\n",
      "\n",
      "\n",
      "Number of rows: 6183\n",
      "Number of columns: 16\n",
      "None\n"
     ]
    }
   ],
   "source": [
    "print(explore_data(android_english, 0, 3, rows_and_columns = True))\n",
    "print('\\n')\n",
    "print(explore_data(apple_english, 0, 3, rows_and_columns = True))"
   ]
  },
  {
   "cell_type": "markdown",
   "metadata": {},
   "source": [
    "Now we get datasets without any wrong data, duplicate data, non-english data. Android dataset have 9615 apps, Apple datasets have 6183 apps."
   ]
  },
  {
   "cell_type": "markdown",
   "metadata": {},
   "source": [
    "## Isolating the free apps"
   ]
  },
  {
   "cell_type": "markdown",
   "metadata": {},
   "source": [
    "In android_english, index number of 'pricing' is 7, while apple_english is 4."
   ]
  },
  {
   "cell_type": "code",
   "execution_count": 17,
   "metadata": {},
   "outputs": [
    {
     "name": "stdout",
     "output_type": "stream",
     "text": [
      "length of android_free : 8864\n",
      "length of apple_free : 3222\n"
     ]
    }
   ],
   "source": [
    "android_free = []\n",
    "apple_free = []\n",
    "\n",
    "for app in android_english :    \n",
    "    price = app[7]      # We need to use '0' because character '$' is in front of price. \n",
    "    \n",
    "    if price == '0' : \n",
    "        android_free.append(app)\n",
    "        \n",
    "for app in apple_english : \n",
    "    price = app[4]\n",
    "    \n",
    "    if price == '0.0' : \n",
    "        apple_free.append(app)\n",
    "        \n",
    "print(f'length of android_free : {len(android_free)}\\nlength of apple_free : {len(apple_free)}')"
   ]
  },
  {
   "cell_type": "markdown",
   "metadata": {},
   "source": [
    "The final length of datasets for analysis are 8864 of android_free and 3222 of apple_free. "
   ]
  },
  {
   "cell_type": "markdown",
   "metadata": {},
   "source": [
    "## Most common genres "
   ]
  },
  {
   "cell_type": "markdown",
   "metadata": {},
   "source": [
    "So far, we spen a good amount of time on cleaning data, and : \n",
    "\n",
    "- Removed inaccurate data\n",
    "- Removed duplicate app entries\n",
    "- Removed non-English apps\n",
    "- Isolated the free apps \n",
    "\n",
    "As we mentioned in the introduction, our aim is to determine the kinds of apps that are likely to attract more users because our revenue is highly influenced by the number of people using our apps.\n",
    "\n",
    "To minimize risks and overhead, our validation strategy for an app idea is comprised of three steps : \n",
    "\n",
    "1. Build a minimal Android version of the app, and add it to Google play.\n",
    "2. If hte app has a good respones from users, we develop it further.\n",
    "3. If the app is profitable after six months, we build an iOS version of the app and add it to the App Store. "
   ]
  },
  {
   "cell_type": "markdown",
   "metadata": {},
   "source": [
    "Our conclusion is that we'll need to build a frequency table for the 'prime_genre' column of the apple_free dataset, and for the 'Genre' and 'Category' columns of the android_free dataset. \n",
    "\n",
    "We'll build two functions we can use to analyze the frequency tables : \n",
    "\n",
    "- One function to generate frequency tables that show percentages\n",
    "- Another function we can use to display the percentages in a descending order "
   ]
  },
  {
   "cell_type": "code",
   "execution_count": 18,
   "metadata": {},
   "outputs": [],
   "source": [
    "# Create frequency table\n",
    "\n",
    "def freq_table(dataset, index) : \n",
    "    \n",
    "    freq_dict = {}        # Make dict storing counts grouped by index \n",
    "    \n",
    "    for app in dataset : \n",
    "        want_col = app[index] \n",
    "        \n",
    "        if want_col in freq_dict : \n",
    "            freq_dict[want_col] += 1\n",
    "        else : \n",
    "            freq_dict[want_col] = 1\n",
    "            \n",
    "    freq_percentage = {}        # Store percentage of freq_dict\n",
    "    \n",
    "    for key in freq_dict : \n",
    "        percentage = (freq_dict[key] / len(dataset)) * 100 \n",
    "        freq_percentage[key] = percentage\n",
    "    \n",
    "    return freq_percentage\n",
    "\n",
    "def display_table(dataset, index):\n",
    "    table = freq_table(dataset, index)\n",
    "    table_display = []\n",
    "    for key in table:\n",
    "        key_val_as_tuple = (table[key], key)\n",
    "        table_display.append(key_val_as_tuple)\n",
    "\n",
    "    table_sorted = sorted(table_display, reverse = True)\n",
    "    for entry in table_sorted:\n",
    "        print(entry[1], ':', entry[0])"
   ]
  },
  {
   "cell_type": "markdown",
   "metadata": {},
   "source": [
    "### Apple Store"
   ]
  },
  {
   "cell_type": "code",
   "execution_count": 19,
   "metadata": {},
   "outputs": [
    {
     "name": "stdout",
     "output_type": "stream",
     "text": [
      "Games : 58.16263190564867\n",
      "Entertainment : 7.883302296710118\n",
      "Photo & Video : 4.9658597144630665\n",
      "Education : 3.662321539416512\n",
      "Social Networking : 3.2898820608317814\n",
      "Shopping : 2.60707635009311\n",
      "Utilities : 2.5139664804469275\n",
      "Sports : 2.1415270018621975\n",
      "Music : 2.0484171322160147\n",
      "Health & Fitness : 2.0173805090006205\n",
      "Productivity : 1.7380509000620732\n",
      "Lifestyle : 1.5828677839851024\n",
      "News : 1.3345747982619491\n",
      "Travel : 1.2414649286157666\n",
      "Finance : 1.1173184357541899\n",
      "Weather : 0.8690254500310366\n",
      "Food & Drink : 0.8069522036002483\n",
      "Reference : 0.5586592178770949\n",
      "Business : 0.5276225946617008\n",
      "Book : 0.4345127250155183\n",
      "Navigation : 0.186219739292365\n",
      "Medical : 0.186219739292365\n",
      "Catalogs : 0.12414649286157665\n"
     ]
    }
   ],
   "source": [
    "display_table(apple_free, 11)"
   ]
  },
  {
   "cell_type": "markdown",
   "metadata": {},
   "source": [
    "We can see that about 58% of the apps in App Store are Games. Entertainment apps have about 8%, while Photo $ Video have only 5%. \n",
    "\n",
    "The general impression is that engertainment(games, photh and video, social networking, sports, music) apps have large cluster in App Store, while practical purposes(education, shopping, utilities, productivility, life style) apps have smaller cluster. But this result doesn't imply that apps of that genre generally have a large number of users. It's just count of offering. "
   ]
  },
  {
   "cell_type": "markdown",
   "metadata": {},
   "source": [
    "### Google Play"
   ]
  },
  {
   "cell_type": "code",
   "execution_count": 20,
   "metadata": {},
   "outputs": [
    {
     "name": "stdout",
     "output_type": "stream",
     "text": [
      "FAMILY : 18.907942238267147\n",
      "GAME : 9.724729241877256\n",
      "TOOLS : 8.461191335740072\n",
      "BUSINESS : 4.591606498194946\n",
      "LIFESTYLE : 3.9034296028880866\n",
      "PRODUCTIVITY : 3.892148014440433\n",
      "FINANCE : 3.7003610108303246\n",
      "MEDICAL : 3.531137184115524\n",
      "SPORTS : 3.395758122743682\n",
      "PERSONALIZATION : 3.3167870036101084\n",
      "COMMUNICATION : 3.2378158844765346\n",
      "HEALTH_AND_FITNESS : 3.0798736462093865\n",
      "PHOTOGRAPHY : 2.944494584837545\n",
      "NEWS_AND_MAGAZINES : 2.7978339350180503\n",
      "SOCIAL : 2.6624548736462095\n",
      "TRAVEL_AND_LOCAL : 2.33528880866426\n",
      "SHOPPING : 2.2450361010830324\n",
      "BOOKS_AND_REFERENCE : 2.1435018050541514\n",
      "DATING : 1.861462093862816\n",
      "VIDEO_PLAYERS : 1.7937725631768955\n",
      "MAPS_AND_NAVIGATION : 1.3989169675090252\n",
      "FOOD_AND_DRINK : 1.2409747292418771\n",
      "EDUCATION : 1.1620036101083033\n",
      "ENTERTAINMENT : 0.9589350180505415\n",
      "LIBRARIES_AND_DEMO : 0.9363718411552346\n",
      "AUTO_AND_VEHICLES : 0.9250902527075812\n",
      "HOUSE_AND_HOME : 0.8235559566787004\n",
      "WEATHER : 0.8009927797833934\n",
      "EVENTS : 0.7107400722021661\n",
      "PARENTING : 0.6543321299638989\n",
      "ART_AND_DESIGN : 0.6430505415162455\n",
      "COMICS : 0.6204873646209386\n",
      "BEAUTY : 0.5979241877256317\n"
     ]
    }
   ],
   "source": [
    "# Analysis from column name'Category'\n",
    "\n",
    "display_table(android_free, 1)"
   ]
  },
  {
   "cell_type": "code",
   "execution_count": 21,
   "metadata": {
    "scrolled": false
   },
   "outputs": [
    {
     "name": "stdout",
     "output_type": "stream",
     "text": [
      "Tools : 8.449909747292418\n",
      "Entertainment : 6.069494584837545\n",
      "Education : 5.347472924187725\n",
      "Business : 4.591606498194946\n",
      "Productivity : 3.892148014440433\n",
      "Lifestyle : 3.892148014440433\n",
      "Finance : 3.7003610108303246\n",
      "Medical : 3.531137184115524\n",
      "Sports : 3.463447653429603\n",
      "Personalization : 3.3167870036101084\n",
      "Communication : 3.2378158844765346\n",
      "Action : 3.1024368231046933\n",
      "Health & Fitness : 3.0798736462093865\n",
      "Photography : 2.944494584837545\n",
      "News & Magazines : 2.7978339350180503\n",
      "Social : 2.6624548736462095\n",
      "Travel & Local : 2.3240072202166067\n",
      "Shopping : 2.2450361010830324\n",
      "Books & Reference : 2.1435018050541514\n",
      "Simulation : 2.0419675090252705\n",
      "Dating : 1.861462093862816\n",
      "Arcade : 1.8501805054151623\n",
      "Video Players & Editors : 1.7712093862815883\n",
      "Casual : 1.7599277978339352\n",
      "Maps & Navigation : 1.3989169675090252\n",
      "Food & Drink : 1.2409747292418771\n",
      "Puzzle : 1.128158844765343\n",
      "Racing : 0.9927797833935018\n",
      "Role Playing : 0.9363718411552346\n",
      "Libraries & Demo : 0.9363718411552346\n",
      "Auto & Vehicles : 0.9250902527075812\n",
      "Strategy : 0.9138086642599278\n",
      "House & Home : 0.8235559566787004\n",
      "Weather : 0.8009927797833934\n",
      "Events : 0.7107400722021661\n",
      "Adventure : 0.6768953068592057\n",
      "Comics : 0.6092057761732852\n",
      "Beauty : 0.5979241877256317\n",
      "Art & Design : 0.5979241877256317\n",
      "Parenting : 0.4963898916967509\n",
      "Card : 0.45126353790613716\n",
      "Casino : 0.42870036101083037\n",
      "Trivia : 0.41741877256317694\n",
      "Educational;Education : 0.39485559566787\n",
      "Board : 0.3835740072202166\n",
      "Educational : 0.3722924187725632\n",
      "Education;Education : 0.33844765342960287\n",
      "Word : 0.2594765342960289\n",
      "Casual;Pretend Play : 0.236913357400722\n",
      "Music : 0.2030685920577617\n",
      "Racing;Action & Adventure : 0.16922382671480143\n",
      "Puzzle;Brain Games : 0.16922382671480143\n",
      "Entertainment;Music & Video : 0.16922382671480143\n",
      "Casual;Brain Games : 0.13537906137184114\n",
      "Casual;Action & Adventure : 0.13537906137184114\n",
      "Arcade;Action & Adventure : 0.12409747292418773\n",
      "Action;Action & Adventure : 0.10153429602888085\n",
      "Educational;Pretend Play : 0.09025270758122744\n",
      "Simulation;Action & Adventure : 0.078971119133574\n",
      "Parenting;Education : 0.078971119133574\n",
      "Entertainment;Brain Games : 0.078971119133574\n",
      "Board;Brain Games : 0.078971119133574\n",
      "Parenting;Music & Video : 0.06768953068592057\n",
      "Educational;Brain Games : 0.06768953068592057\n",
      "Casual;Creativity : 0.06768953068592057\n",
      "Art & Design;Creativity : 0.06768953068592057\n",
      "Education;Pretend Play : 0.056407942238267145\n",
      "Role Playing;Pretend Play : 0.04512635379061372\n",
      "Education;Creativity : 0.04512635379061372\n",
      "Role Playing;Action & Adventure : 0.033844765342960284\n",
      "Puzzle;Action & Adventure : 0.033844765342960284\n",
      "Entertainment;Creativity : 0.033844765342960284\n",
      "Entertainment;Action & Adventure : 0.033844765342960284\n",
      "Educational;Creativity : 0.033844765342960284\n",
      "Educational;Action & Adventure : 0.033844765342960284\n",
      "Education;Music & Video : 0.033844765342960284\n",
      "Education;Brain Games : 0.033844765342960284\n",
      "Education;Action & Adventure : 0.033844765342960284\n",
      "Adventure;Action & Adventure : 0.033844765342960284\n",
      "Video Players & Editors;Music & Video : 0.02256317689530686\n",
      "Sports;Action & Adventure : 0.02256317689530686\n",
      "Simulation;Pretend Play : 0.02256317689530686\n",
      "Puzzle;Creativity : 0.02256317689530686\n",
      "Music;Music & Video : 0.02256317689530686\n",
      "Entertainment;Pretend Play : 0.02256317689530686\n",
      "Casual;Education : 0.02256317689530686\n",
      "Board;Action & Adventure : 0.02256317689530686\n",
      "Video Players & Editors;Creativity : 0.01128158844765343\n",
      "Trivia;Education : 0.01128158844765343\n",
      "Travel & Local;Action & Adventure : 0.01128158844765343\n",
      "Tools;Education : 0.01128158844765343\n",
      "Strategy;Education : 0.01128158844765343\n",
      "Strategy;Creativity : 0.01128158844765343\n",
      "Strategy;Action & Adventure : 0.01128158844765343\n",
      "Simulation;Education : 0.01128158844765343\n",
      "Role Playing;Brain Games : 0.01128158844765343\n",
      "Racing;Pretend Play : 0.01128158844765343\n",
      "Puzzle;Education : 0.01128158844765343\n",
      "Parenting;Brain Games : 0.01128158844765343\n",
      "Music & Audio;Music & Video : 0.01128158844765343\n",
      "Lifestyle;Pretend Play : 0.01128158844765343\n",
      "Lifestyle;Education : 0.01128158844765343\n",
      "Health & Fitness;Education : 0.01128158844765343\n",
      "Health & Fitness;Action & Adventure : 0.01128158844765343\n",
      "Entertainment;Education : 0.01128158844765343\n",
      "Communication;Creativity : 0.01128158844765343\n",
      "Comics;Creativity : 0.01128158844765343\n",
      "Casual;Music & Video : 0.01128158844765343\n",
      "Card;Action & Adventure : 0.01128158844765343\n",
      "Books & Reference;Education : 0.01128158844765343\n",
      "Art & Design;Pretend Play : 0.01128158844765343\n",
      "Art & Design;Action & Adventure : 0.01128158844765343\n",
      "Arcade;Pretend Play : 0.01128158844765343\n",
      "Adventure;Education : 0.01128158844765343\n"
     ]
    }
   ],
   "source": [
    "# Analysis from column name 'genre'\n",
    "\n",
    "display_table(android_free, 9)"
   ]
  },
  {
   "cell_type": "markdown",
   "metadata": {},
   "source": [
    "In the result of display_table(android_free, 9), the most common genres is 'Tools' which have about 8.5%. The second most common genres in Google Play is 'Entertainmen'(about 6%), followed by 'Education'(about 5%)\n",
    "We can see that apps in Google Play have same proportion of entertainment and practical purpose, while apps in Apple Store have more proportion of entertaiment. \n",
    "\n",
    "It is incorrect thinking that the genre with more frequency will attract more users. So we need to get an idea about the kinds of apps that have most users for our goal. "
   ]
  },
  {
   "cell_type": "markdown",
   "metadata": {},
   "source": [
    "## Most popular genres"
   ]
  },
  {
   "cell_type": "markdown",
   "metadata": {},
   "source": [
    "One way to find out what genres are the most popular is to calculate the average number of installs for each genre. For the Google Play dataset, we can find this information in the 'Installs' column, but this information is missig for App Store dataset. As a workaround, we'll take the total number of user ratings as a proxy, which we can find in the 'rating_count_tot' app. "
   ]
  },
  {
   "cell_type": "markdown",
   "metadata": {},
   "source": [
    "### Apple Store"
   ]
  },
  {
   "cell_type": "code",
   "execution_count": 24,
   "metadata": {
    "scrolled": false
   },
   "outputs": [
    {
     "name": "stdout",
     "output_type": "stream",
     "text": [
      "Social Networking : 71548.34905660378\n",
      "Photo & Video : 28441.54375\n",
      "Games : 22788.6696905016\n",
      "Music : 57326.530303030304\n",
      "Reference : 74942.11111111111\n",
      "Health & Fitness : 23298.015384615384\n",
      "Weather : 52279.892857142855\n",
      "Utilities : 18684.456790123455\n",
      "Travel : 28243.8\n",
      "Shopping : 26919.690476190477\n",
      "News : 21248.023255813954\n",
      "Navigation : 86090.33333333333\n",
      "Lifestyle : 16485.764705882353\n",
      "Entertainment : 14029.830708661417\n",
      "Food & Drink : 33333.92307692308\n",
      "Sports : 23008.898550724636\n",
      "Book : 39758.5\n",
      "Finance : 31467.944444444445\n",
      "Education : 7003.983050847458\n",
      "Productivity : 21028.410714285714\n",
      "Business : 7491.117647058823\n",
      "Catalogs : 4004.0\n",
      "Medical : 612.0\n"
     ]
    }
   ],
   "source": [
    "genres_apple = freq_table(apple_free, 11)\n",
    "\n",
    "for genre in genres_apple : \n",
    "    total = 0    # store the sum of user ratings\n",
    "    len_genre = 0    # store the number of apps specific to each genre \n",
    "    \n",
    "    for app in apple_free :\n",
    "        genre_app = app[11] \n",
    "            \n",
    "        if genre_app == genre : \n",
    "            n_ratings = float(app[5])\n",
    "            total += n_ratings \n",
    "            len_genre += 1\n",
    "            \n",
    "    avg_n_ratings = total / len_genre\n",
    "    print(f'{genre} : {avg_n_ratings}')"
   ]
  },
  {
   "cell_type": "markdown",
   "metadata": {},
   "source": [
    "| Rank | Most common | Most popular | \n",
    "|:---:|:---:|:---:|\n",
    "|1|Games|Navigation|\n",
    "|2|Entertainment|Reference|\n",
    "|3|Photo & Video|Social Networking|\n",
    "|4|Education|Music|\n",
    "|5|Social Networking|Weather| \n",
    "|6|Shopping|Book|\n",
    "|7|Utilities|Food & Drink|\n",
    "|8|Sports|Finance|\n",
    "|9|Music|Photo $ Video|\n",
    "|10|Health & Fitness|Travel|\n",
    "|11|Productivity|Shopping|\n",
    "|12|Lifestyle|Health & Fitness|\n",
    "|13|News|Sports|\n",
    "|14|Travel|Gamess|\n",
    "|15|Finance|News|\n",
    "|16|Weather|Productivity|\n",
    "|17|Food & Drink|Utilities|\n",
    "|18|Reference|Lifestyle|\n",
    "|19|Business|Entertainment|\n",
    "|20|Book|Business|\n",
    "|21|Navigation|Education|\n",
    "|22|Medical|Catalogs|\n",
    "|23|Catalogs|Medical|\n"
   ]
  },
  {
   "cell_type": "markdown",
   "metadata": {},
   "source": [
    "In the previous analysis, the most common genres in Apple Store, entertainment genre are the most common genre. However when we saw above chart, practical purpose genre are more pupular than entertainment genre. \n",
    "\n",
    "\n",
    "To accomplish our goal, we need to choos genre which is not common but popular. It means genre doesn't have many competitor, but have many users. But there is some missing point calculating rank by mean. mean is very sensitive statistics affected by outliers. So, we need to have deeper investigation.\n",
    "\n",
    "Anyway, the most attractive genre will have huge difference gap between common and popluarity.(lower common genre rank and higher poular genre rank will be good!). They will be Navigation and Reference. "
   ]
  },
  {
   "cell_type": "markdown",
   "metadata": {},
   "source": [
    "### Google Play"
   ]
  },
  {
   "cell_type": "markdown",
   "metadata": {},
   "source": [
    "We have data about the number of installs for the Google Play market, so we should be able to get a clearer picture about genre popularity. However, the isntall numbers don't seem precise enough - we can see that most values are open-ended."
   ]
  },
  {
   "cell_type": "code",
   "execution_count": 26,
   "metadata": {},
   "outputs": [
    {
     "name": "stdout",
     "output_type": "stream",
     "text": [
      "1,000,000+ : 15.726534296028879\n",
      "100,000+ : 11.552346570397113\n",
      "10,000,000+ : 10.548285198555957\n",
      "10,000+ : 10.198555956678701\n",
      "1,000+ : 8.393501805054152\n",
      "100+ : 6.915613718411552\n",
      "5,000,000+ : 6.825361010830325\n",
      "500,000+ : 5.561823104693141\n",
      "50,000+ : 4.7721119133574\n",
      "5,000+ : 4.512635379061372\n",
      "10+ : 3.5424187725631766\n",
      "500+ : 3.2490974729241873\n",
      "50,000,000+ : 2.3014440433213\n",
      "100,000,000+ : 2.1322202166064983\n",
      "50+ : 1.917870036101083\n",
      "5+ : 0.78971119133574\n",
      "1+ : 0.5076714801444043\n",
      "500,000,000+ : 0.2707581227436823\n",
      "1,000,000,000+ : 0.22563176895306858\n",
      "0+ : 0.04512635379061372\n",
      "0 : 0.01128158844765343\n"
     ]
    }
   ],
   "source": [
    "display_table(android_free, 5)"
   ]
  },
  {
   "cell_type": "markdown",
   "metadata": {},
   "source": [
    "For instance, we don' know whether an app with 100,000 + installs has 100,000 installs, 200,000, or 350,000. However, we don't need very precise data for our purposes - we only want to find out which app genres attract the most users. \n",
    "\n",
    "We're going to leave the numbers as they are, which means that we'll consider that an app with 100,000+ installs has 100,000 installs, and an app with 1,000,000_ installs has 1,000,000 installs. "
   ]
  },
  {
   "cell_type": "code",
   "execution_count": 30,
   "metadata": {},
   "outputs": [
    {
     "name": "stdout",
     "output_type": "stream",
     "text": [
      "ART_AND_DESIGN : 1986335.0877192982\n",
      "AUTO_AND_VEHICLES : 647317.8170731707\n",
      "BEAUTY : 513151.88679245283\n",
      "BOOKS_AND_REFERENCE : 8767811.894736841\n",
      "BUSINESS : 1712290.1474201474\n",
      "COMICS : 817657.2727272727\n",
      "COMMUNICATION : 38456119.167247385\n",
      "DATING : 854028.8303030303\n",
      "EDUCATION : 1833495.145631068\n",
      "ENTERTAINMENT : 11640705.88235294\n",
      "EVENTS : 253542.22222222222\n",
      "FINANCE : 1387692.475609756\n",
      "FOOD_AND_DRINK : 1924897.7363636363\n",
      "HEALTH_AND_FITNESS : 4188821.9853479853\n",
      "HOUSE_AND_HOME : 1331540.5616438356\n",
      "LIBRARIES_AND_DEMO : 638503.734939759\n",
      "LIFESTYLE : 1437816.2687861272\n",
      "GAME : 15588015.603248259\n",
      "FAMILY : 3695641.8198090694\n",
      "MEDICAL : 120550.61980830671\n",
      "SOCIAL : 23253652.127118643\n",
      "SHOPPING : 7036877.311557789\n",
      "PHOTOGRAPHY : 17840110.40229885\n",
      "SPORTS : 3638640.1428571427\n",
      "TRAVEL_AND_LOCAL : 13984077.710144928\n",
      "TOOLS : 10801391.298666667\n",
      "PERSONALIZATION : 5201482.6122448975\n",
      "PRODUCTIVITY : 16787331.344927534\n",
      "PARENTING : 542603.6206896552\n",
      "WEATHER : 5074486.197183099\n",
      "VIDEO_PLAYERS : 24727872.452830188\n",
      "NEWS_AND_MAGAZINES : 9549178.467741935\n",
      "MAPS_AND_NAVIGATION : 4056941.7741935486\n"
     ]
    }
   ],
   "source": [
    "categories_android = freq_table(android_free, 1)\n",
    "\n",
    "for category in categories_android : \n",
    "    \n",
    "    total = 0\n",
    "    len_category = 0\n",
    "    \n",
    "    for app in android_free : \n",
    "        category_app = app[1]\n",
    "        \n",
    "        if category_app == category : \n",
    "            n_installs = app[5]\n",
    "            n_installs = n_installs.replace(',', '')\n",
    "            n_installs = n_installs.replace('+', '')\n",
    "            total += float(n_installs)\n",
    "            len_category += 1\n",
    "    avg_n_installs = total / len_category\n",
    "    print(f'{category} : {avg_n_installs}')"
   ]
  },
  {
   "cell_type": "markdown",
   "metadata": {},
   "source": [
    "|RANK| Most common | Most popular | \n",
    "|:--:|:---:|:---:|\n",
    "|1|FAMILY | COMMUNICATION | \n",
    "|2|GAME | VIDEO_PLAYERS | \n",
    "|3|TOOLS | SOCIAL | \n",
    "|4|BUSINESS | PHTOGRAPH | \n",
    "|5|LIFESTYLE | PRODUCTIVITY | \n",
    "|6|PRODUCTIVITY | GAME |\n",
    "|7|FINANCE | TRAVEL_AND_LOCAL | \n",
    "|8|MEDICAL | ENTERTAINMENT | \n",
    "|9|SPORTS | TOOLS | \n",
    "|10|PERSONALIZATION | NEWS_AND_MAGAZINE | \n",
    "|11|COMMUNICATION | BOOKS_AND_REFRENCE | \n",
    "|12|HEALTH_AND_FITNESS | SHOPPING | \n",
    "|13|PHOTOGRAPHY | PERSONALIZATION |\n",
    "|14|NEWS_AND_MAGAZINES | WEATHER |\n",
    "|15|SOCIAL |HEALTH_AND_FITNESS|\n",
    "|16|TRAVEL_AND_LOCAL | MAPS_AND_NAVIGATION |\n",
    "|17|SHOPPING | FAMILY|\n",
    "|18|BOOKS_AND_REFERENCE | SPORTS|\n",
    "|29|DATING | ART_AND_DESIGN|\n",
    "|20|VIDEO_PLAYERS | FOOD_AND_DRINK|\n",
    "|21|MAPS_AND_NAVIGATION | EDUCATION |\n",
    "|22|FOOD_AND_DRINK | BUSINESS |\n",
    "|23|EDUCATION | LIFESTYLE | \n",
    "|24|ENTERTAINMENT | FINANCE |\n",
    "|25|LIBRARIES_AND_DEMO | HOUSE AND HOME |\n",
    "|26|AUTO_AND_VEHICLES| DATING |\n",
    "|27|HOUSE_AND_HOME | COMICS |\n",
    "|28|WEATHER | AUTO_AND_DEMO|\n",
    "|29|EVENTS | LIBRARIES_AND_DEMO |\n",
    "|30|PARENTING | PARENTING |\n",
    "|31|ART_AND_DESIGN | PARENTING |\n",
    "|32|COMICS | EVENT |\n",
    "|33|BEAUTY | MEDICAL |\n",
    "\n"
   ]
  },
  {
   "cell_type": "markdown",
   "metadata": {},
   "source": [
    "The most popular genres in Google Play are 'COMMUNICATION', 'VIDEO_PLAYERS', 'SOCIAL'. But these genres have strong apps such as Facebook, Youtube, Twitter. So we need to find other genres which is potential.(lower common and higher popular). \n",
    "\n",
    "The 'BOOKS_AND_REFRENCE' will be potential for our goal. "
   ]
  },
  {
   "cell_type": "markdown",
   "metadata": {},
   "source": [
    "## Conclusions"
   ]
  },
  {
   "cell_type": "markdown",
   "metadata": {},
   "source": [
    "In this project, we analyzed data about the App Store and Google Play mobile apps with the goal of recommending an app profile that can be profitable for both markets.\n",
    "\n",
    "We analyze by checking most common genres and most popular genres to find those apps. The lower common genre and the higher popular genre will be attractive genres for our goal, books and reference genre will be result. "
   ]
  }
 ],
 "metadata": {
  "kernelspec": {
   "display_name": "Python 3",
   "language": "python",
   "name": "python3"
  },
  "language_info": {
   "codemirror_mode": {
    "name": "ipython",
    "version": 3
   },
   "file_extension": ".py",
   "mimetype": "text/x-python",
   "name": "python",
   "nbconvert_exporter": "python",
   "pygments_lexer": "ipython3",
   "version": "3.8.8"
  },
  "toc": {
   "base_numbering": 1,
   "nav_menu": {},
   "number_sections": true,
   "sideBar": true,
   "skip_h1_title": false,
   "title_cell": "Table of Contents",
   "title_sidebar": "Contents",
   "toc_cell": false,
   "toc_position": {},
   "toc_section_display": true,
   "toc_window_display": false
  },
  "varInspector": {
   "cols": {
    "lenName": 16,
    "lenType": 16,
    "lenVar": 40
   },
   "kernels_config": {
    "python": {
     "delete_cmd_postfix": "",
     "delete_cmd_prefix": "del ",
     "library": "var_list.py",
     "varRefreshCmd": "print(var_dic_list())"
    },
    "r": {
     "delete_cmd_postfix": ") ",
     "delete_cmd_prefix": "rm(",
     "library": "var_list.r",
     "varRefreshCmd": "cat(var_dic_list()) "
    }
   },
   "types_to_exclude": [
    "module",
    "function",
    "builtin_function_or_method",
    "instance",
    "_Feature"
   ],
   "window_display": false
  }
 },
 "nbformat": 4,
 "nbformat_minor": 2
}
